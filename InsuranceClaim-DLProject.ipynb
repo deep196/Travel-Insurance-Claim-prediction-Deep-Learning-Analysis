{
 "cells": [
  {
   "cell_type": "code",
   "execution_count": 1,
   "metadata": {
    "executionInfo": {
     "elapsed": 457,
     "status": "ok",
     "timestamp": 1642247539896,
     "user": {
      "displayName": "Deepak Avhad",
      "photoUrl": "https://lh3.googleusercontent.com/a-/AOh14GhY6x3bmDdXRl6lSqWi0RKwhXwFroevfB4OUaxfwg=s64",
      "userId": "16043617655025119202"
     },
     "user_tz": -330
    },
    "id": "9ilIlpsC1YQZ"
   },
   "outputs": [],
   "source": [
    "import numpy as np\n",
    "import pandas as pd\n",
    "import matplotlib.pyplot as plt\n",
    "import seaborn as sns\n",
    "import warnings\n",
    "warnings.filterwarnings(\"ignore\")"
   ]
  },
  {
   "cell_type": "code",
   "execution_count": 2,
   "metadata": {
    "executionInfo": {
     "elapsed": 1952,
     "status": "ok",
     "timestamp": 1642247543334,
     "user": {
      "displayName": "Deepak Avhad",
      "photoUrl": "https://lh3.googleusercontent.com/a-/AOh14GhY6x3bmDdXRl6lSqWi0RKwhXwFroevfB4OUaxfwg=s64",
      "userId": "16043617655025119202"
     },
     "user_tz": -330
    },
    "id": "Cr1ytYzz1vDd"
   },
   "outputs": [],
   "source": [
    "df = pd.read_csv(\"/content/drive/MyDrive/DL/data.csv\")"
   ]
  },
  {
   "cell_type": "code",
   "execution_count": 3,
   "metadata": {
    "colab": {
     "base_uri": "https://localhost:8080/",
     "height": 354
    },
    "executionInfo": {
     "elapsed": 78,
     "status": "ok",
     "timestamp": 1642247543335,
     "user": {
      "displayName": "Deepak Avhad",
      "photoUrl": "https://lh3.googleusercontent.com/a-/AOh14GhY6x3bmDdXRl6lSqWi0RKwhXwFroevfB4OUaxfwg=s64",
      "userId": "16043617655025119202"
     },
     "user_tz": -330
    },
    "id": "4mR0I7UV1xvW",
    "outputId": "9e41229b-b0e6-4dcc-e9ae-aecedb3198d3"
   },
   "outputs": [
    {
     "data": {
      "text/html": [
       "\n",
       "  <div id=\"df-d4e89c3c-3899-4225-a859-aa48a221b0b6\">\n",
       "    <div class=\"colab-df-container\">\n",
       "      <div>\n",
       "<style scoped>\n",
       "    .dataframe tbody tr th:only-of-type {\n",
       "        vertical-align: middle;\n",
       "    }\n",
       "\n",
       "    .dataframe tbody tr th {\n",
       "        vertical-align: top;\n",
       "    }\n",
       "\n",
       "    .dataframe thead th {\n",
       "        text-align: right;\n",
       "    }\n",
       "</style>\n",
       "<table border=\"1\" class=\"dataframe\">\n",
       "  <thead>\n",
       "    <tr style=\"text-align: right;\">\n",
       "      <th></th>\n",
       "      <th>ID</th>\n",
       "      <th>Agency</th>\n",
       "      <th>Agency Type</th>\n",
       "      <th>Distribution Channel</th>\n",
       "      <th>Product Name</th>\n",
       "      <th>Claim</th>\n",
       "      <th>Duration</th>\n",
       "      <th>Destination</th>\n",
       "      <th>Net Sales</th>\n",
       "      <th>Commision (in value)</th>\n",
       "      <th>Gender</th>\n",
       "      <th>Age</th>\n",
       "    </tr>\n",
       "  </thead>\n",
       "  <tbody>\n",
       "    <tr>\n",
       "      <th>0</th>\n",
       "      <td>3433</td>\n",
       "      <td>CWT</td>\n",
       "      <td>Travel Agency</td>\n",
       "      <td>Online</td>\n",
       "      <td>Rental Vehicle Excess Insurance</td>\n",
       "      <td>0</td>\n",
       "      <td>7</td>\n",
       "      <td>MALAYSIA</td>\n",
       "      <td>0.0</td>\n",
       "      <td>17.82</td>\n",
       "      <td>NaN</td>\n",
       "      <td>31</td>\n",
       "    </tr>\n",
       "    <tr>\n",
       "      <th>1</th>\n",
       "      <td>4339</td>\n",
       "      <td>EPX</td>\n",
       "      <td>Travel Agency</td>\n",
       "      <td>Online</td>\n",
       "      <td>Cancellation Plan</td>\n",
       "      <td>0</td>\n",
       "      <td>85</td>\n",
       "      <td>SINGAPORE</td>\n",
       "      <td>69.0</td>\n",
       "      <td>0.00</td>\n",
       "      <td>NaN</td>\n",
       "      <td>36</td>\n",
       "    </tr>\n",
       "    <tr>\n",
       "      <th>2</th>\n",
       "      <td>34590</td>\n",
       "      <td>CWT</td>\n",
       "      <td>Travel Agency</td>\n",
       "      <td>Online</td>\n",
       "      <td>Rental Vehicle Excess Insurance</td>\n",
       "      <td>0</td>\n",
       "      <td>11</td>\n",
       "      <td>MALAYSIA</td>\n",
       "      <td>19.8</td>\n",
       "      <td>11.88</td>\n",
       "      <td>NaN</td>\n",
       "      <td>75</td>\n",
       "    </tr>\n",
       "    <tr>\n",
       "      <th>3</th>\n",
       "      <td>55816</td>\n",
       "      <td>EPX</td>\n",
       "      <td>Travel Agency</td>\n",
       "      <td>Online</td>\n",
       "      <td>2 way Comprehensive Plan</td>\n",
       "      <td>0</td>\n",
       "      <td>16</td>\n",
       "      <td>INDONESIA</td>\n",
       "      <td>20.0</td>\n",
       "      <td>0.00</td>\n",
       "      <td>NaN</td>\n",
       "      <td>32</td>\n",
       "    </tr>\n",
       "    <tr>\n",
       "      <th>4</th>\n",
       "      <td>13816</td>\n",
       "      <td>EPX</td>\n",
       "      <td>Travel Agency</td>\n",
       "      <td>Online</td>\n",
       "      <td>Cancellation Plan</td>\n",
       "      <td>0</td>\n",
       "      <td>10</td>\n",
       "      <td>KOREA, REPUBLIC OF</td>\n",
       "      <td>15.0</td>\n",
       "      <td>0.00</td>\n",
       "      <td>NaN</td>\n",
       "      <td>29</td>\n",
       "    </tr>\n",
       "  </tbody>\n",
       "</table>\n",
       "</div>\n",
       "      <button class=\"colab-df-convert\" onclick=\"convertToInteractive('df-d4e89c3c-3899-4225-a859-aa48a221b0b6')\"\n",
       "              title=\"Convert this dataframe to an interactive table.\"\n",
       "              style=\"display:none;\">\n",
       "        \n",
       "  <svg xmlns=\"http://www.w3.org/2000/svg\" height=\"24px\"viewBox=\"0 0 24 24\"\n",
       "       width=\"24px\">\n",
       "    <path d=\"M0 0h24v24H0V0z\" fill=\"none\"/>\n",
       "    <path d=\"M18.56 5.44l.94 2.06.94-2.06 2.06-.94-2.06-.94-.94-2.06-.94 2.06-2.06.94zm-11 1L8.5 8.5l.94-2.06 2.06-.94-2.06-.94L8.5 2.5l-.94 2.06-2.06.94zm10 10l.94 2.06.94-2.06 2.06-.94-2.06-.94-.94-2.06-.94 2.06-2.06.94z\"/><path d=\"M17.41 7.96l-1.37-1.37c-.4-.4-.92-.59-1.43-.59-.52 0-1.04.2-1.43.59L10.3 9.45l-7.72 7.72c-.78.78-.78 2.05 0 2.83L4 21.41c.39.39.9.59 1.41.59.51 0 1.02-.2 1.41-.59l7.78-7.78 2.81-2.81c.8-.78.8-2.07 0-2.86zM5.41 20L4 18.59l7.72-7.72 1.47 1.35L5.41 20z\"/>\n",
       "  </svg>\n",
       "      </button>\n",
       "      \n",
       "  <style>\n",
       "    .colab-df-container {\n",
       "      display:flex;\n",
       "      flex-wrap:wrap;\n",
       "      gap: 12px;\n",
       "    }\n",
       "\n",
       "    .colab-df-convert {\n",
       "      background-color: #E8F0FE;\n",
       "      border: none;\n",
       "      border-radius: 50%;\n",
       "      cursor: pointer;\n",
       "      display: none;\n",
       "      fill: #1967D2;\n",
       "      height: 32px;\n",
       "      padding: 0 0 0 0;\n",
       "      width: 32px;\n",
       "    }\n",
       "\n",
       "    .colab-df-convert:hover {\n",
       "      background-color: #E2EBFA;\n",
       "      box-shadow: 0px 1px 2px rgba(60, 64, 67, 0.3), 0px 1px 3px 1px rgba(60, 64, 67, 0.15);\n",
       "      fill: #174EA6;\n",
       "    }\n",
       "\n",
       "    [theme=dark] .colab-df-convert {\n",
       "      background-color: #3B4455;\n",
       "      fill: #D2E3FC;\n",
       "    }\n",
       "\n",
       "    [theme=dark] .colab-df-convert:hover {\n",
       "      background-color: #434B5C;\n",
       "      box-shadow: 0px 1px 3px 1px rgba(0, 0, 0, 0.15);\n",
       "      filter: drop-shadow(0px 1px 2px rgba(0, 0, 0, 0.3));\n",
       "      fill: #FFFFFF;\n",
       "    }\n",
       "  </style>\n",
       "\n",
       "      <script>\n",
       "        const buttonEl =\n",
       "          document.querySelector('#df-d4e89c3c-3899-4225-a859-aa48a221b0b6 button.colab-df-convert');\n",
       "        buttonEl.style.display =\n",
       "          google.colab.kernel.accessAllowed ? 'block' : 'none';\n",
       "\n",
       "        async function convertToInteractive(key) {\n",
       "          const element = document.querySelector('#df-d4e89c3c-3899-4225-a859-aa48a221b0b6');\n",
       "          const dataTable =\n",
       "            await google.colab.kernel.invokeFunction('convertToInteractive',\n",
       "                                                     [key], {});\n",
       "          if (!dataTable) return;\n",
       "\n",
       "          const docLinkHtml = 'Like what you see? Visit the ' +\n",
       "            '<a target=\"_blank\" href=https://colab.research.google.com/notebooks/data_table.ipynb>data table notebook</a>'\n",
       "            + ' to learn more about interactive tables.';\n",
       "          element.innerHTML = '';\n",
       "          dataTable['output_type'] = 'display_data';\n",
       "          await google.colab.output.renderOutput(dataTable, element);\n",
       "          const docLink = document.createElement('div');\n",
       "          docLink.innerHTML = docLinkHtml;\n",
       "          element.appendChild(docLink);\n",
       "        }\n",
       "      </script>\n",
       "    </div>\n",
       "  </div>\n",
       "  "
      ],
      "text/plain": [
       "      ID Agency    Agency Type  ... Commision (in value) Gender  Age\n",
       "0   3433    CWT  Travel Agency  ...                17.82    NaN   31\n",
       "1   4339    EPX  Travel Agency  ...                 0.00    NaN   36\n",
       "2  34590    CWT  Travel Agency  ...                11.88    NaN   75\n",
       "3  55816    EPX  Travel Agency  ...                 0.00    NaN   32\n",
       "4  13816    EPX  Travel Agency  ...                 0.00    NaN   29\n",
       "\n",
       "[5 rows x 12 columns]"
      ]
     },
     "execution_count": 3,
     "metadata": {},
     "output_type": "execute_result"
    }
   ],
   "source": [
    "df.head()"
   ]
  },
  {
   "cell_type": "code",
   "execution_count": 4,
   "metadata": {
    "colab": {
     "base_uri": "https://localhost:8080/"
    },
    "executionInfo": {
     "elapsed": 74,
     "status": "ok",
     "timestamp": 1642247543337,
     "user": {
      "displayName": "Deepak Avhad",
      "photoUrl": "https://lh3.googleusercontent.com/a-/AOh14GhY6x3bmDdXRl6lSqWi0RKwhXwFroevfB4OUaxfwg=s64",
      "userId": "16043617655025119202"
     },
     "user_tz": -330
    },
    "id": "_xf82mcP16q1",
    "outputId": "0948cda1-6860-48c6-edc5-ba60abca4a42"
   },
   "outputs": [
    {
     "data": {
      "text/plain": [
       "ID                          0\n",
       "Agency                      0\n",
       "Agency Type                 0\n",
       "Distribution Channel        0\n",
       "Product Name                0\n",
       "Claim                       0\n",
       "Duration                    0\n",
       "Destination                 0\n",
       "Net Sales                   0\n",
       "Commision (in value)        0\n",
       "Gender                  35953\n",
       "Age                         0\n",
       "dtype: int64"
      ]
     },
     "execution_count": 4,
     "metadata": {},
     "output_type": "execute_result"
    }
   ],
   "source": [
    "df.isnull().sum()"
   ]
  },
  {
   "cell_type": "markdown",
   "metadata": {
    "id": "F7_8dfptbBOH"
   },
   "source": [
    "From above we can see there is 35953 null value in gender column."
   ]
  },
  {
   "cell_type": "code",
   "execution_count": 5,
   "metadata": {
    "colab": {
     "base_uri": "https://localhost:8080/",
     "height": 206
    },
    "executionInfo": {
     "elapsed": 65,
     "status": "ok",
     "timestamp": 1642247543338,
     "user": {
      "displayName": "Deepak Avhad",
      "photoUrl": "https://lh3.googleusercontent.com/a-/AOh14GhY6x3bmDdXRl6lSqWi0RKwhXwFroevfB4OUaxfwg=s64",
      "userId": "16043617655025119202"
     },
     "user_tz": -330
    },
    "id": "nkOcHckv2I1n",
    "outputId": "97ee930c-97ad-47d5-b174-2108a966c1a0"
   },
   "outputs": [
    {
     "data": {
      "text/html": [
       "\n",
       "  <div id=\"df-11e7fd7b-bc64-4047-8630-7ce13282ea7f\">\n",
       "    <div class=\"colab-df-container\">\n",
       "      <div>\n",
       "<style scoped>\n",
       "    .dataframe tbody tr th:only-of-type {\n",
       "        vertical-align: middle;\n",
       "    }\n",
       "\n",
       "    .dataframe tbody tr th {\n",
       "        vertical-align: top;\n",
       "    }\n",
       "\n",
       "    .dataframe thead th {\n",
       "        text-align: right;\n",
       "    }\n",
       "</style>\n",
       "<table border=\"1\" class=\"dataframe\">\n",
       "  <thead>\n",
       "    <tr style=\"text-align: right;\">\n",
       "      <th></th>\n",
       "      <th>Agency</th>\n",
       "      <th>Agency Type</th>\n",
       "      <th>Distribution Channel</th>\n",
       "      <th>Product Name</th>\n",
       "      <th>Claim</th>\n",
       "      <th>Duration</th>\n",
       "      <th>Destination</th>\n",
       "      <th>Net Sales</th>\n",
       "      <th>Commision (in value)</th>\n",
       "      <th>Age</th>\n",
       "    </tr>\n",
       "  </thead>\n",
       "  <tbody>\n",
       "    <tr>\n",
       "      <th>0</th>\n",
       "      <td>CWT</td>\n",
       "      <td>Travel Agency</td>\n",
       "      <td>Online</td>\n",
       "      <td>Rental Vehicle Excess Insurance</td>\n",
       "      <td>0</td>\n",
       "      <td>7</td>\n",
       "      <td>MALAYSIA</td>\n",
       "      <td>0.0</td>\n",
       "      <td>17.82</td>\n",
       "      <td>31</td>\n",
       "    </tr>\n",
       "    <tr>\n",
       "      <th>1</th>\n",
       "      <td>EPX</td>\n",
       "      <td>Travel Agency</td>\n",
       "      <td>Online</td>\n",
       "      <td>Cancellation Plan</td>\n",
       "      <td>0</td>\n",
       "      <td>85</td>\n",
       "      <td>SINGAPORE</td>\n",
       "      <td>69.0</td>\n",
       "      <td>0.00</td>\n",
       "      <td>36</td>\n",
       "    </tr>\n",
       "    <tr>\n",
       "      <th>2</th>\n",
       "      <td>CWT</td>\n",
       "      <td>Travel Agency</td>\n",
       "      <td>Online</td>\n",
       "      <td>Rental Vehicle Excess Insurance</td>\n",
       "      <td>0</td>\n",
       "      <td>11</td>\n",
       "      <td>MALAYSIA</td>\n",
       "      <td>19.8</td>\n",
       "      <td>11.88</td>\n",
       "      <td>75</td>\n",
       "    </tr>\n",
       "    <tr>\n",
       "      <th>3</th>\n",
       "      <td>EPX</td>\n",
       "      <td>Travel Agency</td>\n",
       "      <td>Online</td>\n",
       "      <td>2 way Comprehensive Plan</td>\n",
       "      <td>0</td>\n",
       "      <td>16</td>\n",
       "      <td>INDONESIA</td>\n",
       "      <td>20.0</td>\n",
       "      <td>0.00</td>\n",
       "      <td>32</td>\n",
       "    </tr>\n",
       "    <tr>\n",
       "      <th>4</th>\n",
       "      <td>EPX</td>\n",
       "      <td>Travel Agency</td>\n",
       "      <td>Online</td>\n",
       "      <td>Cancellation Plan</td>\n",
       "      <td>0</td>\n",
       "      <td>10</td>\n",
       "      <td>KOREA, REPUBLIC OF</td>\n",
       "      <td>15.0</td>\n",
       "      <td>0.00</td>\n",
       "      <td>29</td>\n",
       "    </tr>\n",
       "  </tbody>\n",
       "</table>\n",
       "</div>\n",
       "      <button class=\"colab-df-convert\" onclick=\"convertToInteractive('df-11e7fd7b-bc64-4047-8630-7ce13282ea7f')\"\n",
       "              title=\"Convert this dataframe to an interactive table.\"\n",
       "              style=\"display:none;\">\n",
       "        \n",
       "  <svg xmlns=\"http://www.w3.org/2000/svg\" height=\"24px\"viewBox=\"0 0 24 24\"\n",
       "       width=\"24px\">\n",
       "    <path d=\"M0 0h24v24H0V0z\" fill=\"none\"/>\n",
       "    <path d=\"M18.56 5.44l.94 2.06.94-2.06 2.06-.94-2.06-.94-.94-2.06-.94 2.06-2.06.94zm-11 1L8.5 8.5l.94-2.06 2.06-.94-2.06-.94L8.5 2.5l-.94 2.06-2.06.94zm10 10l.94 2.06.94-2.06 2.06-.94-2.06-.94-.94-2.06-.94 2.06-2.06.94z\"/><path d=\"M17.41 7.96l-1.37-1.37c-.4-.4-.92-.59-1.43-.59-.52 0-1.04.2-1.43.59L10.3 9.45l-7.72 7.72c-.78.78-.78 2.05 0 2.83L4 21.41c.39.39.9.59 1.41.59.51 0 1.02-.2 1.41-.59l7.78-7.78 2.81-2.81c.8-.78.8-2.07 0-2.86zM5.41 20L4 18.59l7.72-7.72 1.47 1.35L5.41 20z\"/>\n",
       "  </svg>\n",
       "      </button>\n",
       "      \n",
       "  <style>\n",
       "    .colab-df-container {\n",
       "      display:flex;\n",
       "      flex-wrap:wrap;\n",
       "      gap: 12px;\n",
       "    }\n",
       "\n",
       "    .colab-df-convert {\n",
       "      background-color: #E8F0FE;\n",
       "      border: none;\n",
       "      border-radius: 50%;\n",
       "      cursor: pointer;\n",
       "      display: none;\n",
       "      fill: #1967D2;\n",
       "      height: 32px;\n",
       "      padding: 0 0 0 0;\n",
       "      width: 32px;\n",
       "    }\n",
       "\n",
       "    .colab-df-convert:hover {\n",
       "      background-color: #E2EBFA;\n",
       "      box-shadow: 0px 1px 2px rgba(60, 64, 67, 0.3), 0px 1px 3px 1px rgba(60, 64, 67, 0.15);\n",
       "      fill: #174EA6;\n",
       "    }\n",
       "\n",
       "    [theme=dark] .colab-df-convert {\n",
       "      background-color: #3B4455;\n",
       "      fill: #D2E3FC;\n",
       "    }\n",
       "\n",
       "    [theme=dark] .colab-df-convert:hover {\n",
       "      background-color: #434B5C;\n",
       "      box-shadow: 0px 1px 3px 1px rgba(0, 0, 0, 0.15);\n",
       "      filter: drop-shadow(0px 1px 2px rgba(0, 0, 0, 0.3));\n",
       "      fill: #FFFFFF;\n",
       "    }\n",
       "  </style>\n",
       "\n",
       "      <script>\n",
       "        const buttonEl =\n",
       "          document.querySelector('#df-11e7fd7b-bc64-4047-8630-7ce13282ea7f button.colab-df-convert');\n",
       "        buttonEl.style.display =\n",
       "          google.colab.kernel.accessAllowed ? 'block' : 'none';\n",
       "\n",
       "        async function convertToInteractive(key) {\n",
       "          const element = document.querySelector('#df-11e7fd7b-bc64-4047-8630-7ce13282ea7f');\n",
       "          const dataTable =\n",
       "            await google.colab.kernel.invokeFunction('convertToInteractive',\n",
       "                                                     [key], {});\n",
       "          if (!dataTable) return;\n",
       "\n",
       "          const docLinkHtml = 'Like what you see? Visit the ' +\n",
       "            '<a target=\"_blank\" href=https://colab.research.google.com/notebooks/data_table.ipynb>data table notebook</a>'\n",
       "            + ' to learn more about interactive tables.';\n",
       "          element.innerHTML = '';\n",
       "          dataTable['output_type'] = 'display_data';\n",
       "          await google.colab.output.renderOutput(dataTable, element);\n",
       "          const docLink = document.createElement('div');\n",
       "          docLink.innerHTML = docLinkHtml;\n",
       "          element.appendChild(docLink);\n",
       "        }\n",
       "      </script>\n",
       "    </div>\n",
       "  </div>\n",
       "  "
      ],
      "text/plain": [
       "  Agency    Agency Type  ... Commision (in value) Age\n",
       "0    CWT  Travel Agency  ...                17.82  31\n",
       "1    EPX  Travel Agency  ...                 0.00  36\n",
       "2    CWT  Travel Agency  ...                11.88  75\n",
       "3    EPX  Travel Agency  ...                 0.00  32\n",
       "4    EPX  Travel Agency  ...                 0.00  29\n",
       "\n",
       "[5 rows x 10 columns]"
      ]
     },
     "execution_count": 5,
     "metadata": {},
     "output_type": "execute_result"
    }
   ],
   "source": [
    "df.drop([\"ID\"],axis=1,inplace = True)\n",
    "df=df.drop(['Gender'], axis=1)\n",
    "df.head()"
   ]
  },
  {
   "cell_type": "markdown",
   "metadata": {
    "id": "ABXkMFahbSjn"
   },
   "source": [
    "ID column is not necessory & Gender column has more than 50% null value ,so we drop them using drop function."
   ]
  },
  {
   "cell_type": "code",
   "execution_count": 6,
   "metadata": {
    "colab": {
     "base_uri": "https://localhost:8080/"
    },
    "executionInfo": {
     "elapsed": 61,
     "status": "ok",
     "timestamp": 1642247543339,
     "user": {
      "displayName": "Deepak Avhad",
      "photoUrl": "https://lh3.googleusercontent.com/a-/AOh14GhY6x3bmDdXRl6lSqWi0RKwhXwFroevfB4OUaxfwg=s64",
      "userId": "16043617655025119202"
     },
     "user_tz": -330
    },
    "id": "DKbwtx6h2U6_",
    "outputId": "b811bba8-1972-4695-d450-b5ebddccc2bd"
   },
   "outputs": [
    {
     "data": {
      "text/plain": [
       "Index(['Agency', 'Agency Type', 'Distribution Channel', 'Product Name',\n",
       "       'Claim', 'Duration', 'Destination', 'Net Sales', 'Commision (in value)',\n",
       "       'Age'],\n",
       "      dtype='object')"
      ]
     },
     "execution_count": 6,
     "metadata": {},
     "output_type": "execute_result"
    }
   ],
   "source": [
    "df.columns"
   ]
  },
  {
   "cell_type": "markdown",
   "metadata": {
    "id": "ddgg9rRBblv-"
   },
   "source": [
    "After dropping age & gender column ,now there are 10 columns remaining."
   ]
  },
  {
   "cell_type": "code",
   "execution_count": 7,
   "metadata": {
    "executionInfo": {
     "elapsed": 56,
     "status": "ok",
     "timestamp": 1642247543340,
     "user": {
      "displayName": "Deepak Avhad",
      "photoUrl": "https://lh3.googleusercontent.com/a-/AOh14GhY6x3bmDdXRl6lSqWi0RKwhXwFroevfB4OUaxfwg=s64",
      "userId": "16043617655025119202"
     },
     "user_tz": -330
    },
    "id": "59v6lH9R2i5e"
   },
   "outputs": [],
   "source": [
    "df.rename(columns={ 'Agency Type':'Agency_Type', 'Distribution Channel':'Distribution_Channel', 'Product Name':'Product_Name','Net Sales':'Net_Sales', 'Commision (in value)':'Commision'},inplace=True)"
   ]
  },
  {
   "cell_type": "code",
   "execution_count": 8,
   "metadata": {
    "executionInfo": {
     "elapsed": 55,
     "status": "ok",
     "timestamp": 1642247543341,
     "user": {
      "displayName": "Deepak Avhad",
      "photoUrl": "https://lh3.googleusercontent.com/a-/AOh14GhY6x3bmDdXRl6lSqWi0RKwhXwFroevfB4OUaxfwg=s64",
      "userId": "16043617655025119202"
     },
     "user_tz": -330
    },
    "id": "pjcqMR442nfT"
   },
   "outputs": [],
   "source": [
    "column_names = [\"Agency\", \"Agency_Type\", \"Distribution_Channel\",\"Product_Name\",\"Duration\",\"Destination\",\"Net_Sales\",\"Commision\",\"Age\",\"Claim\"]\n",
    "df = df.reindex(columns=column_names)"
   ]
  },
  {
   "cell_type": "markdown",
   "metadata": {
    "id": "rKW2FNR6b6PM"
   },
   "source": [
    "There is space between 2 words of all columns, we rename & orderized them."
   ]
  },
  {
   "cell_type": "code",
   "execution_count": 9,
   "metadata": {
    "colab": {
     "base_uri": "https://localhost:8080/",
     "height": 206
    },
    "executionInfo": {
     "elapsed": 56,
     "status": "ok",
     "timestamp": 1642247543343,
     "user": {
      "displayName": "Deepak Avhad",
      "photoUrl": "https://lh3.googleusercontent.com/a-/AOh14GhY6x3bmDdXRl6lSqWi0RKwhXwFroevfB4OUaxfwg=s64",
      "userId": "16043617655025119202"
     },
     "user_tz": -330
    },
    "id": "42cIeOS922Ko",
    "outputId": "1525dd38-5c36-442f-df16-40a32df74780"
   },
   "outputs": [
    {
     "data": {
      "text/html": [
       "\n",
       "  <div id=\"df-ac31cc8a-b1c6-406a-8db7-0e589ae01559\">\n",
       "    <div class=\"colab-df-container\">\n",
       "      <div>\n",
       "<style scoped>\n",
       "    .dataframe tbody tr th:only-of-type {\n",
       "        vertical-align: middle;\n",
       "    }\n",
       "\n",
       "    .dataframe tbody tr th {\n",
       "        vertical-align: top;\n",
       "    }\n",
       "\n",
       "    .dataframe thead th {\n",
       "        text-align: right;\n",
       "    }\n",
       "</style>\n",
       "<table border=\"1\" class=\"dataframe\">\n",
       "  <thead>\n",
       "    <tr style=\"text-align: right;\">\n",
       "      <th></th>\n",
       "      <th>Agency</th>\n",
       "      <th>Agency_Type</th>\n",
       "      <th>Distribution_Channel</th>\n",
       "      <th>Product_Name</th>\n",
       "      <th>Duration</th>\n",
       "      <th>Destination</th>\n",
       "      <th>Net_Sales</th>\n",
       "      <th>Commision</th>\n",
       "      <th>Age</th>\n",
       "      <th>Claim</th>\n",
       "    </tr>\n",
       "  </thead>\n",
       "  <tbody>\n",
       "    <tr>\n",
       "      <th>0</th>\n",
       "      <td>CWT</td>\n",
       "      <td>Travel Agency</td>\n",
       "      <td>Online</td>\n",
       "      <td>Rental Vehicle Excess Insurance</td>\n",
       "      <td>7</td>\n",
       "      <td>MALAYSIA</td>\n",
       "      <td>0.0</td>\n",
       "      <td>17.82</td>\n",
       "      <td>31</td>\n",
       "      <td>0</td>\n",
       "    </tr>\n",
       "    <tr>\n",
       "      <th>1</th>\n",
       "      <td>EPX</td>\n",
       "      <td>Travel Agency</td>\n",
       "      <td>Online</td>\n",
       "      <td>Cancellation Plan</td>\n",
       "      <td>85</td>\n",
       "      <td>SINGAPORE</td>\n",
       "      <td>69.0</td>\n",
       "      <td>0.00</td>\n",
       "      <td>36</td>\n",
       "      <td>0</td>\n",
       "    </tr>\n",
       "    <tr>\n",
       "      <th>2</th>\n",
       "      <td>CWT</td>\n",
       "      <td>Travel Agency</td>\n",
       "      <td>Online</td>\n",
       "      <td>Rental Vehicle Excess Insurance</td>\n",
       "      <td>11</td>\n",
       "      <td>MALAYSIA</td>\n",
       "      <td>19.8</td>\n",
       "      <td>11.88</td>\n",
       "      <td>75</td>\n",
       "      <td>0</td>\n",
       "    </tr>\n",
       "    <tr>\n",
       "      <th>3</th>\n",
       "      <td>EPX</td>\n",
       "      <td>Travel Agency</td>\n",
       "      <td>Online</td>\n",
       "      <td>2 way Comprehensive Plan</td>\n",
       "      <td>16</td>\n",
       "      <td>INDONESIA</td>\n",
       "      <td>20.0</td>\n",
       "      <td>0.00</td>\n",
       "      <td>32</td>\n",
       "      <td>0</td>\n",
       "    </tr>\n",
       "    <tr>\n",
       "      <th>4</th>\n",
       "      <td>EPX</td>\n",
       "      <td>Travel Agency</td>\n",
       "      <td>Online</td>\n",
       "      <td>Cancellation Plan</td>\n",
       "      <td>10</td>\n",
       "      <td>KOREA, REPUBLIC OF</td>\n",
       "      <td>15.0</td>\n",
       "      <td>0.00</td>\n",
       "      <td>29</td>\n",
       "      <td>0</td>\n",
       "    </tr>\n",
       "  </tbody>\n",
       "</table>\n",
       "</div>\n",
       "      <button class=\"colab-df-convert\" onclick=\"convertToInteractive('df-ac31cc8a-b1c6-406a-8db7-0e589ae01559')\"\n",
       "              title=\"Convert this dataframe to an interactive table.\"\n",
       "              style=\"display:none;\">\n",
       "        \n",
       "  <svg xmlns=\"http://www.w3.org/2000/svg\" height=\"24px\"viewBox=\"0 0 24 24\"\n",
       "       width=\"24px\">\n",
       "    <path d=\"M0 0h24v24H0V0z\" fill=\"none\"/>\n",
       "    <path d=\"M18.56 5.44l.94 2.06.94-2.06 2.06-.94-2.06-.94-.94-2.06-.94 2.06-2.06.94zm-11 1L8.5 8.5l.94-2.06 2.06-.94-2.06-.94L8.5 2.5l-.94 2.06-2.06.94zm10 10l.94 2.06.94-2.06 2.06-.94-2.06-.94-.94-2.06-.94 2.06-2.06.94z\"/><path d=\"M17.41 7.96l-1.37-1.37c-.4-.4-.92-.59-1.43-.59-.52 0-1.04.2-1.43.59L10.3 9.45l-7.72 7.72c-.78.78-.78 2.05 0 2.83L4 21.41c.39.39.9.59 1.41.59.51 0 1.02-.2 1.41-.59l7.78-7.78 2.81-2.81c.8-.78.8-2.07 0-2.86zM5.41 20L4 18.59l7.72-7.72 1.47 1.35L5.41 20z\"/>\n",
       "  </svg>\n",
       "      </button>\n",
       "      \n",
       "  <style>\n",
       "    .colab-df-container {\n",
       "      display:flex;\n",
       "      flex-wrap:wrap;\n",
       "      gap: 12px;\n",
       "    }\n",
       "\n",
       "    .colab-df-convert {\n",
       "      background-color: #E8F0FE;\n",
       "      border: none;\n",
       "      border-radius: 50%;\n",
       "      cursor: pointer;\n",
       "      display: none;\n",
       "      fill: #1967D2;\n",
       "      height: 32px;\n",
       "      padding: 0 0 0 0;\n",
       "      width: 32px;\n",
       "    }\n",
       "\n",
       "    .colab-df-convert:hover {\n",
       "      background-color: #E2EBFA;\n",
       "      box-shadow: 0px 1px 2px rgba(60, 64, 67, 0.3), 0px 1px 3px 1px rgba(60, 64, 67, 0.15);\n",
       "      fill: #174EA6;\n",
       "    }\n",
       "\n",
       "    [theme=dark] .colab-df-convert {\n",
       "      background-color: #3B4455;\n",
       "      fill: #D2E3FC;\n",
       "    }\n",
       "\n",
       "    [theme=dark] .colab-df-convert:hover {\n",
       "      background-color: #434B5C;\n",
       "      box-shadow: 0px 1px 3px 1px rgba(0, 0, 0, 0.15);\n",
       "      filter: drop-shadow(0px 1px 2px rgba(0, 0, 0, 0.3));\n",
       "      fill: #FFFFFF;\n",
       "    }\n",
       "  </style>\n",
       "\n",
       "      <script>\n",
       "        const buttonEl =\n",
       "          document.querySelector('#df-ac31cc8a-b1c6-406a-8db7-0e589ae01559 button.colab-df-convert');\n",
       "        buttonEl.style.display =\n",
       "          google.colab.kernel.accessAllowed ? 'block' : 'none';\n",
       "\n",
       "        async function convertToInteractive(key) {\n",
       "          const element = document.querySelector('#df-ac31cc8a-b1c6-406a-8db7-0e589ae01559');\n",
       "          const dataTable =\n",
       "            await google.colab.kernel.invokeFunction('convertToInteractive',\n",
       "                                                     [key], {});\n",
       "          if (!dataTable) return;\n",
       "\n",
       "          const docLinkHtml = 'Like what you see? Visit the ' +\n",
       "            '<a target=\"_blank\" href=https://colab.research.google.com/notebooks/data_table.ipynb>data table notebook</a>'\n",
       "            + ' to learn more about interactive tables.';\n",
       "          element.innerHTML = '';\n",
       "          dataTable['output_type'] = 'display_data';\n",
       "          await google.colab.output.renderOutput(dataTable, element);\n",
       "          const docLink = document.createElement('div');\n",
       "          docLink.innerHTML = docLinkHtml;\n",
       "          element.appendChild(docLink);\n",
       "        }\n",
       "      </script>\n",
       "    </div>\n",
       "  </div>\n",
       "  "
      ],
      "text/plain": [
       "  Agency    Agency_Type Distribution_Channel  ... Commision  Age Claim\n",
       "0    CWT  Travel Agency               Online  ...     17.82   31     0\n",
       "1    EPX  Travel Agency               Online  ...      0.00   36     0\n",
       "2    CWT  Travel Agency               Online  ...     11.88   75     0\n",
       "3    EPX  Travel Agency               Online  ...      0.00   32     0\n",
       "4    EPX  Travel Agency               Online  ...      0.00   29     0\n",
       "\n",
       "[5 rows x 10 columns]"
      ]
     },
     "execution_count": 9,
     "metadata": {},
     "output_type": "execute_result"
    }
   ],
   "source": [
    "df.head()"
   ]
  },
  {
   "cell_type": "code",
   "execution_count": 10,
   "metadata": {
    "colab": {
     "base_uri": "https://localhost:8080/"
    },
    "executionInfo": {
     "elapsed": 54,
     "status": "ok",
     "timestamp": 1642247543344,
     "user": {
      "displayName": "Deepak Avhad",
      "photoUrl": "https://lh3.googleusercontent.com/a-/AOh14GhY6x3bmDdXRl6lSqWi0RKwhXwFroevfB4OUaxfwg=s64",
      "userId": "16043617655025119202"
     },
     "user_tz": -330
    },
    "id": "ZpwOiSPH29BP",
    "outputId": "03cf3c05-44c8-4348-a4a7-232ea11fcbee"
   },
   "outputs": [
    {
     "data": {
      "text/plain": [
       "(50553, 10)"
      ]
     },
     "execution_count": 10,
     "metadata": {},
     "output_type": "execute_result"
    }
   ],
   "source": [
    "df.shape"
   ]
  },
  {
   "cell_type": "markdown",
   "metadata": {
    "id": "2UB1YdjucbXy"
   },
   "source": [
    "Now,dataset has 50553 rows & 10 columns."
   ]
  },
  {
   "cell_type": "code",
   "execution_count": 11,
   "metadata": {
    "colab": {
     "base_uri": "https://localhost:8080/"
    },
    "executionInfo": {
     "elapsed": 49,
     "status": "ok",
     "timestamp": 1642247543345,
     "user": {
      "displayName": "Deepak Avhad",
      "photoUrl": "https://lh3.googleusercontent.com/a-/AOh14GhY6x3bmDdXRl6lSqWi0RKwhXwFroevfB4OUaxfwg=s64",
      "userId": "16043617655025119202"
     },
     "user_tz": -330
    },
    "id": "hrajlPwS2_lt",
    "outputId": "2f2df020-20e6-4a3b-a431-7adb623a96fb"
   },
   "outputs": [
    {
     "data": {
      "text/plain": [
       "Agency                  0\n",
       "Agency_Type             0\n",
       "Distribution_Channel    0\n",
       "Product_Name            0\n",
       "Duration                0\n",
       "Destination             0\n",
       "Net_Sales               0\n",
       "Commision               0\n",
       "Age                     0\n",
       "Claim                   0\n",
       "dtype: int64"
      ]
     },
     "execution_count": 11,
     "metadata": {},
     "output_type": "execute_result"
    }
   ],
   "source": [
    "df.isnull().sum()"
   ]
  },
  {
   "cell_type": "markdown",
   "metadata": {
    "id": "vronBBWHclqg"
   },
   "source": [
    "Here, we can see there is no null values in all columns."
   ]
  },
  {
   "cell_type": "code",
   "execution_count": 12,
   "metadata": {
    "colab": {
     "base_uri": "https://localhost:8080/"
    },
    "executionInfo": {
     "elapsed": 47,
     "status": "ok",
     "timestamp": 1642247543346,
     "user": {
      "displayName": "Deepak Avhad",
      "photoUrl": "https://lh3.googleusercontent.com/a-/AOh14GhY6x3bmDdXRl6lSqWi0RKwhXwFroevfB4OUaxfwg=s64",
      "userId": "16043617655025119202"
     },
     "user_tz": -330
    },
    "id": "IszGpaWp3RUo",
    "outputId": "2cd21ab0-e24b-47c4-fa6b-6ae2efa50399"
   },
   "outputs": [
    {
     "name": "stdout",
     "output_type": "stream",
     "text": [
      "<class 'pandas.core.frame.DataFrame'>\n",
      "RangeIndex: 50553 entries, 0 to 50552\n",
      "Data columns (total 10 columns):\n",
      " #   Column                Non-Null Count  Dtype  \n",
      "---  ------                --------------  -----  \n",
      " 0   Agency                50553 non-null  object \n",
      " 1   Agency_Type           50553 non-null  object \n",
      " 2   Distribution_Channel  50553 non-null  object \n",
      " 3   Product_Name          50553 non-null  object \n",
      " 4   Duration              50553 non-null  int64  \n",
      " 5   Destination           50553 non-null  object \n",
      " 6   Net_Sales             50553 non-null  float64\n",
      " 7   Commision             50553 non-null  float64\n",
      " 8   Age                   50553 non-null  int64  \n",
      " 9   Claim                 50553 non-null  int64  \n",
      "dtypes: float64(2), int64(3), object(5)\n",
      "memory usage: 3.9+ MB\n"
     ]
    }
   ],
   "source": [
    "df.info()"
   ]
  },
  {
   "cell_type": "code",
   "execution_count": 13,
   "metadata": {
    "colab": {
     "base_uri": "https://localhost:8080/"
    },
    "executionInfo": {
     "elapsed": 45,
     "status": "ok",
     "timestamp": 1642247543347,
     "user": {
      "displayName": "Deepak Avhad",
      "photoUrl": "https://lh3.googleusercontent.com/a-/AOh14GhY6x3bmDdXRl6lSqWi0RKwhXwFroevfB4OUaxfwg=s64",
      "userId": "16043617655025119202"
     },
     "user_tz": -330
    },
    "id": "Z9SggkBn3Txm",
    "outputId": "217ac2e6-dd12-4f5d-dc6e-2bbbb2419518"
   },
   "outputs": [
    {
     "name": "stdout",
     "output_type": "stream",
     "text": [
      "Unique elements of Agency are: \n",
      "['CWT' 'EPX' 'JZI' 'C2B' 'SSI' 'CSR' 'KML' 'RAB' 'ADM' 'JWT' 'LWC' 'TST'\n",
      " 'ART' 'TTW' 'CBH' 'CCR']\n",
      "\n",
      "Unique elements of Agency_Type are: \n",
      "['Travel Agency' 'Airlines']\n",
      "\n",
      "Unique elements of Distribution_Channel are: \n",
      "['Online' 'Offline']\n",
      "\n",
      "Unique elements of Product_Name are: \n",
      "['Rental Vehicle Excess Insurance' 'Cancellation Plan'\n",
      " '2 way Comprehensive Plan' 'Value Plan' 'Basic Plan' 'Bronze Plan'\n",
      " 'Ticket Protector' '1 way Comprehensive Plan' 'Comprehensive Plan'\n",
      " 'Silver Plan' 'Premier Plan' 'Annual Silver Plan' 'Annual Gold Plan'\n",
      " 'Single Trip Travel Protect Silver' 'Travel Cruise Protect' '24 Protect'\n",
      " 'Annual Travel Protect Gold' 'Single Trip Travel Protect Platinum'\n",
      " 'Single Trip Travel Protect Gold' 'Spouse or Parents Comprehensive Plan'\n",
      " 'Gold Plan' 'Annual Travel Protect Silver'\n",
      " 'Individual Comprehensive Plan' 'Annual Travel Protect Platinum'\n",
      " 'Child Comprehensive Plan']\n",
      "\n",
      "Unique elements of Destination are: \n",
      "['MALAYSIA' 'SINGAPORE' 'INDONESIA' 'KOREA, REPUBLIC OF' 'THAILAND'\n",
      " 'JAPAN' 'HONG KONG' 'AUSTRALIA' 'UNITED STATES' 'CHINA' 'SPAIN' 'MEXICO'\n",
      " 'UNITED KINGDOM' 'TAIWAN, PROVINCE OF CHINA' 'CANADA' 'PHILIPPINES'\n",
      " 'ARGENTINA' 'VIET NAM' 'BRUNEI DARUSSALAM' 'UNITED ARAB EMIRATES'\n",
      " 'NORWAY' 'BANGLADESH' 'ISRAEL' 'CAMBODIA' 'INDIA' 'SWITZERLAND'\n",
      " \"LAO PEOPLE'S DEMOCRATIC REPUBLIC\" 'NEW ZEALAND' 'MYANMAR' 'TURKEY'\n",
      " 'FRANCE' 'MALDIVES' 'AUSTRIA' 'PORTUGAL' 'NETHERLANDS' 'ICELAND' 'ITALY'\n",
      " 'GERMANY' 'RUSSIAN FEDERATION' 'NEPAL' 'SLOVENIA' 'PERU' 'GREECE'\n",
      " 'COLOMBIA' 'MAURITIUS' 'IRELAND' 'GEORGIA' 'SRI LANKA' 'SOUTH AFRICA'\n",
      " 'BRAZIL' 'CROATIA' 'FIJI' 'KAZAKHSTAN' 'DENMARK' 'KENYA' 'SWEDEN' 'CHILE'\n",
      " 'MOROCCO' 'FINLAND' 'BOLIVIA' 'TANZANIA, UNITED REPUBLIC OF' 'BELGIUM'\n",
      " 'PAKISTAN' 'SAUDI ARABIA' 'QATAR' 'CZECH REPUBLIC' 'MACAO' 'MALTA'\n",
      " 'UGANDA' 'POLAND' 'BAHRAIN' 'GUAM' 'UZBEKISTAN' 'EGYPT' 'HUNGARY'\n",
      " 'LATVIA' 'JORDAN' 'OMAN' 'ETHIOPIA' 'UKRAINE' 'COSTA RICA' 'ROMANIA'\n",
      " 'MONGOLIA' 'AZERBAIJAN' 'LITHUANIA' 'KUWAIT' 'CYPRUS' 'LEBANON'\n",
      " 'LUXEMBOURG' 'BELARUS' 'ESTONIA' 'TUNISIA' 'VANUATU' 'TURKMENISTAN'\n",
      " 'NORTHERN MARIANA ISLANDS' 'KYRGYZSTAN' 'BERMUDA' 'BHUTAN' 'ZAMBIA'\n",
      " 'VENEZUELA' 'IRAN, ISLAMIC REPUBLIC OF' 'CAYMAN ISLANDS']\n",
      "\n"
     ]
    }
   ],
   "source": [
    "column_keys=df.select_dtypes(include=['object']).columns.tolist()\n",
    "for key in column_keys:\n",
    "    print('Unique elements of',key,'are: ')\n",
    "    print(df[key].unique(),end='\\n')\n",
    "    print(end='\\n')"
   ]
  },
  {
   "cell_type": "markdown",
   "metadata": {
    "id": "gU_mdVk4dJ-9"
   },
   "source": [
    "From above we seperate all unique values from categorical columns."
   ]
  },
  {
   "cell_type": "code",
   "execution_count": 14,
   "metadata": {
    "colab": {
     "base_uri": "https://localhost:8080/",
     "height": 300
    },
    "executionInfo": {
     "elapsed": 42,
     "status": "ok",
     "timestamp": 1642247543347,
     "user": {
      "displayName": "Deepak Avhad",
      "photoUrl": "https://lh3.googleusercontent.com/a-/AOh14GhY6x3bmDdXRl6lSqWi0RKwhXwFroevfB4OUaxfwg=s64",
      "userId": "16043617655025119202"
     },
     "user_tz": -330
    },
    "id": "YP2mLxPy3aoW",
    "outputId": "28885343-0ee3-42f8-df64-2c841348871d"
   },
   "outputs": [
    {
     "data": {
      "text/html": [
       "\n",
       "  <div id=\"df-bd468d7b-a708-44f4-a9ce-6ff820c241c3\">\n",
       "    <div class=\"colab-df-container\">\n",
       "      <div>\n",
       "<style scoped>\n",
       "    .dataframe tbody tr th:only-of-type {\n",
       "        vertical-align: middle;\n",
       "    }\n",
       "\n",
       "    .dataframe tbody tr th {\n",
       "        vertical-align: top;\n",
       "    }\n",
       "\n",
       "    .dataframe thead th {\n",
       "        text-align: right;\n",
       "    }\n",
       "</style>\n",
       "<table border=\"1\" class=\"dataframe\">\n",
       "  <thead>\n",
       "    <tr style=\"text-align: right;\">\n",
       "      <th></th>\n",
       "      <th>Duration</th>\n",
       "      <th>Net_Sales</th>\n",
       "      <th>Commision</th>\n",
       "      <th>Age</th>\n",
       "      <th>Claim</th>\n",
       "    </tr>\n",
       "  </thead>\n",
       "  <tbody>\n",
       "    <tr>\n",
       "      <th>count</th>\n",
       "      <td>50553.000000</td>\n",
       "      <td>50553.000000</td>\n",
       "      <td>50553.00000</td>\n",
       "      <td>50553.000000</td>\n",
       "      <td>50553.000000</td>\n",
       "    </tr>\n",
       "    <tr>\n",
       "      <th>mean</th>\n",
       "      <td>49.425969</td>\n",
       "      <td>40.800977</td>\n",
       "      <td>9.83809</td>\n",
       "      <td>40.011236</td>\n",
       "      <td>0.014658</td>\n",
       "    </tr>\n",
       "    <tr>\n",
       "      <th>std</th>\n",
       "      <td>101.434647</td>\n",
       "      <td>48.899683</td>\n",
       "      <td>19.91004</td>\n",
       "      <td>14.076566</td>\n",
       "      <td>0.120180</td>\n",
       "    </tr>\n",
       "    <tr>\n",
       "      <th>min</th>\n",
       "      <td>-2.000000</td>\n",
       "      <td>-389.000000</td>\n",
       "      <td>0.00000</td>\n",
       "      <td>0.000000</td>\n",
       "      <td>0.000000</td>\n",
       "    </tr>\n",
       "    <tr>\n",
       "      <th>25%</th>\n",
       "      <td>9.000000</td>\n",
       "      <td>18.000000</td>\n",
       "      <td>0.00000</td>\n",
       "      <td>35.000000</td>\n",
       "      <td>0.000000</td>\n",
       "    </tr>\n",
       "    <tr>\n",
       "      <th>50%</th>\n",
       "      <td>22.000000</td>\n",
       "      <td>26.500000</td>\n",
       "      <td>0.00000</td>\n",
       "      <td>36.000000</td>\n",
       "      <td>0.000000</td>\n",
       "    </tr>\n",
       "    <tr>\n",
       "      <th>75%</th>\n",
       "      <td>53.000000</td>\n",
       "      <td>48.000000</td>\n",
       "      <td>11.55000</td>\n",
       "      <td>44.000000</td>\n",
       "      <td>0.000000</td>\n",
       "    </tr>\n",
       "    <tr>\n",
       "      <th>max</th>\n",
       "      <td>4881.000000</td>\n",
       "      <td>810.000000</td>\n",
       "      <td>283.50000</td>\n",
       "      <td>118.000000</td>\n",
       "      <td>1.000000</td>\n",
       "    </tr>\n",
       "  </tbody>\n",
       "</table>\n",
       "</div>\n",
       "      <button class=\"colab-df-convert\" onclick=\"convertToInteractive('df-bd468d7b-a708-44f4-a9ce-6ff820c241c3')\"\n",
       "              title=\"Convert this dataframe to an interactive table.\"\n",
       "              style=\"display:none;\">\n",
       "        \n",
       "  <svg xmlns=\"http://www.w3.org/2000/svg\" height=\"24px\"viewBox=\"0 0 24 24\"\n",
       "       width=\"24px\">\n",
       "    <path d=\"M0 0h24v24H0V0z\" fill=\"none\"/>\n",
       "    <path d=\"M18.56 5.44l.94 2.06.94-2.06 2.06-.94-2.06-.94-.94-2.06-.94 2.06-2.06.94zm-11 1L8.5 8.5l.94-2.06 2.06-.94-2.06-.94L8.5 2.5l-.94 2.06-2.06.94zm10 10l.94 2.06.94-2.06 2.06-.94-2.06-.94-.94-2.06-.94 2.06-2.06.94z\"/><path d=\"M17.41 7.96l-1.37-1.37c-.4-.4-.92-.59-1.43-.59-.52 0-1.04.2-1.43.59L10.3 9.45l-7.72 7.72c-.78.78-.78 2.05 0 2.83L4 21.41c.39.39.9.59 1.41.59.51 0 1.02-.2 1.41-.59l7.78-7.78 2.81-2.81c.8-.78.8-2.07 0-2.86zM5.41 20L4 18.59l7.72-7.72 1.47 1.35L5.41 20z\"/>\n",
       "  </svg>\n",
       "      </button>\n",
       "      \n",
       "  <style>\n",
       "    .colab-df-container {\n",
       "      display:flex;\n",
       "      flex-wrap:wrap;\n",
       "      gap: 12px;\n",
       "    }\n",
       "\n",
       "    .colab-df-convert {\n",
       "      background-color: #E8F0FE;\n",
       "      border: none;\n",
       "      border-radius: 50%;\n",
       "      cursor: pointer;\n",
       "      display: none;\n",
       "      fill: #1967D2;\n",
       "      height: 32px;\n",
       "      padding: 0 0 0 0;\n",
       "      width: 32px;\n",
       "    }\n",
       "\n",
       "    .colab-df-convert:hover {\n",
       "      background-color: #E2EBFA;\n",
       "      box-shadow: 0px 1px 2px rgba(60, 64, 67, 0.3), 0px 1px 3px 1px rgba(60, 64, 67, 0.15);\n",
       "      fill: #174EA6;\n",
       "    }\n",
       "\n",
       "    [theme=dark] .colab-df-convert {\n",
       "      background-color: #3B4455;\n",
       "      fill: #D2E3FC;\n",
       "    }\n",
       "\n",
       "    [theme=dark] .colab-df-convert:hover {\n",
       "      background-color: #434B5C;\n",
       "      box-shadow: 0px 1px 3px 1px rgba(0, 0, 0, 0.15);\n",
       "      filter: drop-shadow(0px 1px 2px rgba(0, 0, 0, 0.3));\n",
       "      fill: #FFFFFF;\n",
       "    }\n",
       "  </style>\n",
       "\n",
       "      <script>\n",
       "        const buttonEl =\n",
       "          document.querySelector('#df-bd468d7b-a708-44f4-a9ce-6ff820c241c3 button.colab-df-convert');\n",
       "        buttonEl.style.display =\n",
       "          google.colab.kernel.accessAllowed ? 'block' : 'none';\n",
       "\n",
       "        async function convertToInteractive(key) {\n",
       "          const element = document.querySelector('#df-bd468d7b-a708-44f4-a9ce-6ff820c241c3');\n",
       "          const dataTable =\n",
       "            await google.colab.kernel.invokeFunction('convertToInteractive',\n",
       "                                                     [key], {});\n",
       "          if (!dataTable) return;\n",
       "\n",
       "          const docLinkHtml = 'Like what you see? Visit the ' +\n",
       "            '<a target=\"_blank\" href=https://colab.research.google.com/notebooks/data_table.ipynb>data table notebook</a>'\n",
       "            + ' to learn more about interactive tables.';\n",
       "          element.innerHTML = '';\n",
       "          dataTable['output_type'] = 'display_data';\n",
       "          await google.colab.output.renderOutput(dataTable, element);\n",
       "          const docLink = document.createElement('div');\n",
       "          docLink.innerHTML = docLinkHtml;\n",
       "          element.appendChild(docLink);\n",
       "        }\n",
       "      </script>\n",
       "    </div>\n",
       "  </div>\n",
       "  "
      ],
      "text/plain": [
       "           Duration     Net_Sales    Commision           Age         Claim\n",
       "count  50553.000000  50553.000000  50553.00000  50553.000000  50553.000000\n",
       "mean      49.425969     40.800977      9.83809     40.011236      0.014658\n",
       "std      101.434647     48.899683     19.91004     14.076566      0.120180\n",
       "min       -2.000000   -389.000000      0.00000      0.000000      0.000000\n",
       "25%        9.000000     18.000000      0.00000     35.000000      0.000000\n",
       "50%       22.000000     26.500000      0.00000     36.000000      0.000000\n",
       "75%       53.000000     48.000000     11.55000     44.000000      0.000000\n",
       "max     4881.000000    810.000000    283.50000    118.000000      1.000000"
      ]
     },
     "execution_count": 14,
     "metadata": {},
     "output_type": "execute_result"
    }
   ],
   "source": [
    "df.describe()"
   ]
  },
  {
   "cell_type": "markdown",
   "metadata": {
    "id": "z281NxNkddR6"
   },
   "source": [
    "Here,we can see that Duration, Net_sales, commision are highly skewed."
   ]
  },
  {
   "cell_type": "code",
   "execution_count": 15,
   "metadata": {
    "colab": {
     "base_uri": "https://localhost:8080/",
     "height": 613
    },
    "executionInfo": {
     "elapsed": 40,
     "status": "ok",
     "timestamp": 1642247543348,
     "user": {
      "displayName": "Deepak Avhad",
      "photoUrl": "https://lh3.googleusercontent.com/a-/AOh14GhY6x3bmDdXRl6lSqWi0RKwhXwFroevfB4OUaxfwg=s64",
      "userId": "16043617655025119202"
     },
     "user_tz": -330
    },
    "id": "9m4KP5qB3ibg",
    "outputId": "708eeb67-ae5b-4563-eae5-fcc4c35df823"
   },
   "outputs": [
    {
     "data": {
      "text/plain": [
       "<matplotlib.axes._subplots.AxesSubplot at 0x7fb12e60f590>"
      ]
     },
     "execution_count": 15,
     "metadata": {},
     "output_type": "execute_result"
    },
    {
     "data": {
      "image/png": "[encoded data removed]",
      "text/plain": [
       "<Figure size 1080x720 with 2 Axes>"
      ]
     },
     "metadata": {
      "needs_background": "light"
     },
     "output_type": "display_data"
    }
   ],
   "source": [
    "#Heatmap\n",
    "plt.figure(figsize=(15,10))\n",
    "sns.heatmap(df.corr(),annot=True,cmap='Greens')"
   ]
  },
  {
   "cell_type": "markdown",
   "metadata": {
    "id": "6FD6yLnHdi7w"
   },
   "source": [
    "Plotted the corelation coefficient to check the degree of colinearity which each individidual feature have with the output label. Clearly there is no high colinearity among any of the features.\n"
   ]
  },
  {
   "cell_type": "code",
   "execution_count": 16,
   "metadata": {
    "colab": {
     "base_uri": "https://localhost:8080/",
     "height": 350
    },
    "executionInfo": {
     "elapsed": 1020,
     "status": "ok",
     "timestamp": 1642247544334,
     "user": {
      "displayName": "Deepak Avhad",
      "photoUrl": "https://lh3.googleusercontent.com/a-/AOh14GhY6x3bmDdXRl6lSqWi0RKwhXwFroevfB4OUaxfwg=s64",
      "userId": "16043617655025119202"
     },
     "user_tz": -330
    },
    "id": "HoPRMZmN3tYL",
    "outputId": "5241c165-ac14-4615-e263-92c9064a3bf8"
   },
   "outputs": [
    {
     "data": {
      "image/png": "[encoded data removed]",
      "text/plain": [
       "<Figure size 720x360 with 1 Axes>"
      ]
     },
     "metadata": {
      "needs_background": "light"
     },
     "output_type": "display_data"
    }
   ],
   "source": [
    "fig = plt.figure(figsize = (10, 5))\n",
    "plt.hist(df['Age'])\n",
    "plt.xlabel(\"Age\")\n",
    "plt.ylabel(\"Number of people\")\n",
    "plt.title(\"Distribution of Age\")\n",
    "plt.show()"
   ]
  },
  {
   "cell_type": "markdown",
   "metadata": {
    "id": "7fk-swFOd50e"
   },
   "source": [
    "The above figure shows a histogram depicting the distribution of age. From the graph, the majory of people opting for travel insurance are of the age 35 to 50.\n"
   ]
  },
  {
   "cell_type": "code",
   "execution_count": 17,
   "metadata": {
    "colab": {
     "base_uri": "https://localhost:8080/",
     "height": 265
    },
    "executionInfo": {
     "elapsed": 40,
     "status": "ok",
     "timestamp": 1642247544336,
     "user": {
      "displayName": "Deepak Avhad",
      "photoUrl": "https://lh3.googleusercontent.com/a-/AOh14GhY6x3bmDdXRl6lSqWi0RKwhXwFroevfB4OUaxfwg=s64",
      "userId": "16043617655025119202"
     },
     "user_tz": -330
    },
    "id": "5LWWPiK53wlD",
    "outputId": "5cb7b1bf-7d00-44ab-8335-823b8b0dad82"
   },
   "outputs": [
    {
     "data": {
      "image/png": "[encoded data removed]",
      "text/plain": [
       "<Figure size 432x288 with 1 Axes>"
      ]
     },
     "metadata": {
      "needs_background": "light"
     },
     "output_type": "display_data"
    }
   ],
   "source": [
    "plt.figure()\n",
    "plt.scatter(x=df['Net_Sales'],y=df['Commision'],marker='.')\n",
    "plt.show()"
   ]
  },
  {
   "cell_type": "markdown",
   "metadata": {
    "id": "VQgHKP3JeAc1"
   },
   "source": [
    "From above graph we can see rise of commision for net sales."
   ]
  },
  {
   "cell_type": "code",
   "execution_count": 18,
   "metadata": {
    "colab": {
     "base_uri": "https://localhost:8080/",
     "height": 295
    },
    "executionInfo": {
     "elapsed": 40,
     "status": "ok",
     "timestamp": 1642247544339,
     "user": {
      "displayName": "Deepak Avhad",
      "photoUrl": "https://lh3.googleusercontent.com/a-/AOh14GhY6x3bmDdXRl6lSqWi0RKwhXwFroevfB4OUaxfwg=s64",
      "userId": "16043617655025119202"
     },
     "user_tz": -330
    },
    "id": "dznhTPVR3z7H",
    "outputId": "4e2b9822-6623-4025-81d4-d9cdaa38bd3f"
   },
   "outputs": [
    {
     "data": {
      "image/png": "[encoded data removed]",
      "text/plain": [
       "<Figure size 432x288 with 1 Axes>"
      ]
     },
     "metadata": {
      "needs_background": "light"
     },
     "output_type": "display_data"
    }
   ],
   "source": [
    "df['Agency'].value_counts().plot(kind='bar',color='purple')\n",
    "plt.title('Top agencies for insurance')\n",
    "plt.show()"
   ]
  },
  {
   "cell_type": "markdown",
   "metadata": {
    "id": "luZbphm5egWm"
   },
   "source": [
    "From above graph we can see EPX is the top agency for insurance as compared to other agencies."
   ]
  },
  {
   "cell_type": "code",
   "execution_count": 19,
   "metadata": {
    "colab": {
     "base_uri": "https://localhost:8080/",
     "height": 305
    },
    "executionInfo": {
     "elapsed": 38,
     "status": "ok",
     "timestamp": 1642247544340,
     "user": {
      "displayName": "Deepak Avhad",
      "photoUrl": "https://lh3.googleusercontent.com/a-/AOh14GhY6x3bmDdXRl6lSqWi0RKwhXwFroevfB4OUaxfwg=s64",
      "userId": "16043617655025119202"
     },
     "user_tz": -330
    },
    "id": "zb6G4bb632gh",
    "outputId": "ab541588-a0df-4901-b70f-9b93d2466edf"
   },
   "outputs": [
    {
     "data": {
      "image/png": "[encoded data removed]",
      "text/plain": [
       "<Figure size 432x288 with 1 Axes>"
      ]
     },
     "metadata": {
      "needs_background": "light"
     },
     "output_type": "display_data"
    }
   ],
   "source": [
    "df['Distribution_Channel'].value_counts().plot(kind='bar',color='lightseagreen')\n",
    "plt.title(\"Mode of Distribution Channel\")\n",
    "plt.show()"
   ]
  },
  {
   "cell_type": "markdown",
   "metadata": {
    "id": "PzLQZ2_mezzr"
   },
   "source": [
    "Here,we can see from above graph online mode opted for distribution channel."
   ]
  },
  {
   "cell_type": "code",
   "execution_count": 20,
   "metadata": {
    "colab": {
     "base_uri": "https://localhost:8080/",
     "height": 281
    },
    "executionInfo": {
     "elapsed": 36,
     "status": "ok",
     "timestamp": 1642247544341,
     "user": {
      "displayName": "Deepak Avhad",
      "photoUrl": "https://lh3.googleusercontent.com/a-/AOh14GhY6x3bmDdXRl6lSqWi0RKwhXwFroevfB4OUaxfwg=s64",
      "userId": "16043617655025119202"
     },
     "user_tz": -330
    },
    "id": "SZbN054j36iB",
    "outputId": "cf7a2715-7607-4709-a794-027461179415"
   },
   "outputs": [
    {
     "data": {
      "image/png": "[encoded data removed]",
      "text/plain": [
       "<Figure size 432x288 with 1 Axes>"
      ]
     },
     "metadata": {
      "needs_background": "light"
     },
     "output_type": "display_data"
    }
   ],
   "source": [
    "plt.hist(df['Age'],bins=20,color='limegreen')\n",
    "plt.title(\"Insurance across age groups\")\n",
    "plt.show()"
   ]
  },
  {
   "cell_type": "markdown",
   "metadata": {
    "id": "1UoRxDWsfMKV"
   },
   "source": [
    "From above we can see no.of age groups for insurance."
   ]
  },
  {
   "cell_type": "code",
   "execution_count": 21,
   "metadata": {
    "colab": {
     "base_uri": "https://localhost:8080/",
     "height": 264
    },
    "executionInfo": {
     "elapsed": 740,
     "status": "ok",
     "timestamp": 1642247545047,
     "user": {
      "displayName": "Deepak Avhad",
      "photoUrl": "https://lh3.googleusercontent.com/a-/AOh14GhY6x3bmDdXRl6lSqWi0RKwhXwFroevfB4OUaxfwg=s64",
      "userId": "16043617655025119202"
     },
     "user_tz": -330
    },
    "id": "DpJegrFo38kH",
    "outputId": "7d1d3b4e-c98a-44c9-d03f-e4b08152528f"
   },
   "outputs": [
    {
     "data": {
      "image/png": "[encoded data removed]",
      "text/plain": [
       "<Figure size 432x288 with 1 Axes>"
      ]
     },
     "metadata": {},
     "output_type": "display_data"
    }
   ],
   "source": [
    "df1=df.groupby(by=[\"Product_Name\"]).size().reset_index(name=\"counts\")\n",
    "df1=df1.nlargest(10,['counts'])\n",
    "plt.pie(x=df1['counts'],labels=df1['Product_Name'],autopct='%1.1f%%')\n",
    "plt.title('Type of insurance plans')\n",
    "plt.show()"
   ]
  },
  {
   "cell_type": "markdown",
   "metadata": {
    "id": "byGVueEsf4or"
   },
   "source": [
    "From above pie chart we can see that no of insurance plans & their counts."
   ]
  },
  {
   "cell_type": "code",
   "execution_count": 22,
   "metadata": {
    "colab": {
     "base_uri": "https://localhost:8080/",
     "height": 350
    },
    "executionInfo": {
     "elapsed": 14,
     "status": "ok",
     "timestamp": 1642247545048,
     "user": {
      "displayName": "Deepak Avhad",
      "photoUrl": "https://lh3.googleusercontent.com/a-/AOh14GhY6x3bmDdXRl6lSqWi0RKwhXwFroevfB4OUaxfwg=s64",
      "userId": "16043617655025119202"
     },
     "user_tz": -330
    },
    "id": "U_1vur9S4A9M",
    "outputId": "c0e87fa4-2083-4fbc-e694-8abcbeae6736"
   },
   "outputs": [
    {
     "data": {
      "image/png": "[encoded data removed]",
      "text/plain": [
       "<Figure size 720x360 with 1 Axes>"
      ]
     },
     "metadata": {
      "needs_background": "light"
     },
     "output_type": "display_data"
    }
   ],
   "source": [
    "df2 = df.groupby(by=[\"Agency\"]).size().reset_index(name=\"counts\")\n",
    "fig = plt.figure(figsize = (10, 5))\n",
    "plt.bar(df2['Agency'], df2['counts'], color ='maroon', width = 0.4)\n",
    "plt.xlabel(\"Agency\")\n",
    "plt.ylabel(\"Number of people insured\")\n",
    "plt.title(\"People insured in different Insurance Agencies\")\n",
    "plt.show()"
   ]
  },
  {
   "cell_type": "markdown",
   "metadata": {
    "id": "-yctRLXIgF-0"
   },
   "source": [
    "From above graph we can see no of people insured in different insurance agencies."
   ]
  },
  {
   "cell_type": "code",
   "execution_count": 23,
   "metadata": {
    "executionInfo": {
     "elapsed": 14,
     "status": "ok",
     "timestamp": 1642247545049,
     "user": {
      "displayName": "Deepak Avhad",
      "photoUrl": "https://lh3.googleusercontent.com/a-/AOh14GhY6x3bmDdXRl6lSqWi0RKwhXwFroevfB4OUaxfwg=s64",
      "userId": "16043617655025119202"
     },
     "user_tz": -330
    },
    "id": "U7cnTJ_34Tf0"
   },
   "outputs": [],
   "source": [
    "df_num = df.select_dtypes(\"int64\",\"float64\")\n",
    "df_cat = df.select_dtypes(\"object\")"
   ]
  },
  {
   "cell_type": "code",
   "execution_count": 24,
   "metadata": {
    "colab": {
     "base_uri": "https://localhost:8080/",
     "height": 968
    },
    "executionInfo": {
     "elapsed": 1434,
     "status": "ok",
     "timestamp": 1642247546470,
     "user": {
      "displayName": "Deepak Avhad",
      "photoUrl": "https://lh3.googleusercontent.com/a-/AOh14GhY6x3bmDdXRl6lSqWi0RKwhXwFroevfB4OUaxfwg=s64",
      "userId": "16043617655025119202"
     },
     "user_tz": -330
    },
    "id": "5kepvc904xnR",
    "outputId": "fdde4f24-a864-433c-acb5-4fb40740ac47"
   },
   "outputs": [
    {
     "data": {
      "image/png": "[encoded data removed]",
      "text/plain": [
       "<Figure size 720x360 with 1 Axes>"
      ]
     },
     "metadata": {
      "needs_background": "light"
     },
     "output_type": "display_data"
    },
    {
     "data": {
      "image/png": "[encoded data removed]",
      "text/plain": [
       "<Figure size 720x360 with 1 Axes>"
      ]
     },
     "metadata": {
      "needs_background": "light"
     },
     "output_type": "display_data"
    },
    {
     "data": {
      "image/png": "[encoded data removed]",
      "text/plain": [
       "<Figure size 720x360 with 1 Axes>"
      ]
     },
     "metadata": {
      "needs_background": "light"
     },
     "output_type": "display_data"
    }
   ],
   "source": [
    "for col in df_num:\n",
    "    plt.figure(figsize=(10,5))\n",
    "    sns.distplot(df[col])\n",
    "    plt.show()"
   ]
  },
  {
   "cell_type": "code",
   "execution_count": 25,
   "metadata": {
    "colab": {
     "base_uri": "https://localhost:8080/",
     "height": 968
    },
    "executionInfo": {
     "elapsed": 560,
     "status": "ok",
     "timestamp": 1642247547027,
     "user": {
      "displayName": "Deepak Avhad",
      "photoUrl": "https://lh3.googleusercontent.com/a-/AOh14GhY6x3bmDdXRl6lSqWi0RKwhXwFroevfB4OUaxfwg=s64",
      "userId": "16043617655025119202"
     },
     "user_tz": -330
    },
    "id": "MFBxP0_-4pIf",
    "outputId": "910d1265-ee9d-4878-de1c-a1eb54f7ee96"
   },
   "outputs": [
    {
     "data": {
      "image/png": "[encoded data removed]",
      "text/plain": [
       "<Figure size 720x360 with 1 Axes>"
      ]
     },
     "metadata": {
      "needs_background": "light"
     },
     "output_type": "display_data"
    },
    {
     "data": {
      "image/png": "[encoded data removed]",
      "text/plain": [
       "<Figure size 720x360 with 1 Axes>"
      ]
     },
     "metadata": {
      "needs_background": "light"
     },
     "output_type": "display_data"
    },
    {
     "data": {
      "image/png": "[encoded data removed]",
      "text/plain": [
       "<Figure size 720x360 with 1 Axes>"
      ]
     },
     "metadata": {
      "needs_background": "light"
     },
     "output_type": "display_data"
    }
   ],
   "source": [
    "for col in df_num:\n",
    "    plt.figure(figsize=(10,5))\n",
    "    sns.boxplot(df[col])\n",
    "    plt.show()"
   ]
  },
  {
   "cell_type": "code",
   "execution_count": 26,
   "metadata": {
    "colab": {
     "base_uri": "https://localhost:8080/",
     "height": 279
    },
    "executionInfo": {
     "elapsed": 686,
     "status": "ok",
     "timestamp": 1642247547703,
     "user": {
      "displayName": "Deepak Avhad",
      "photoUrl": "https://lh3.googleusercontent.com/a-/AOh14GhY6x3bmDdXRl6lSqWi0RKwhXwFroevfB4OUaxfwg=s64",
      "userId": "16043617655025119202"
     },
     "user_tz": -330
    },
    "id": "1qLpca5K4DXB",
    "outputId": "25c9cd84-7d4f-4b4a-f583-66063ef23cd5"
   },
   "outputs": [
    {
     "data": {
      "image/png": "[encoded data removed]",
      "text/plain": [
       "<Figure size 432x288 with 1 Axes>"
      ]
     },
     "metadata": {
      "needs_background": "light"
     },
     "output_type": "display_data"
    }
   ],
   "source": [
    "# target count\n",
    "plt.figure()\n",
    "sns.countplot(df[\"Claim\"])\n",
    "plt.xlabel(\"Claim\")\n",
    "plt.ylabel(\"Number of people insured\")\n",
    "plt.show()"
   ]
  },
  {
   "cell_type": "markdown",
   "metadata": {
    "id": "-qzHEyTFhB8e"
   },
   "source": [
    "Here,we can see that there are very less people's are claim for insurance."
   ]
  },
  {
   "cell_type": "code",
   "execution_count": 27,
   "metadata": {
    "colab": {
     "base_uri": "https://localhost:8080/",
     "height": 265
    },
    "executionInfo": {
     "elapsed": 17,
     "status": "ok",
     "timestamp": 1642247547704,
     "user": {
      "displayName": "Deepak Avhad",
      "photoUrl": "https://lh3.googleusercontent.com/a-/AOh14GhY6x3bmDdXRl6lSqWi0RKwhXwFroevfB4OUaxfwg=s64",
      "userId": "16043617655025119202"
     },
     "user_tz": -330
    },
    "id": "XgTGorzs44cN",
    "outputId": "9e6c6885-b3fd-433e-aa59-12d00e2ef79e"
   },
   "outputs": [
    {
     "data": {
      "image/png": "[encoded data removed]",
      "text/plain": [
       "<Figure size 432x288 with 1 Axes>"
      ]
     },
     "metadata": {
      "needs_background": "light"
     },
     "output_type": "display_data"
    }
   ],
   "source": [
    "fig = plt.figure(figsize =(6,4 ))\n",
    "plt.boxplot(df['Duration'])\n",
    "plt.show()"
   ]
  },
  {
   "cell_type": "markdown",
   "metadata": {
    "id": "wrdUEIsAg2Fe"
   },
   "source": [
    "The boxplot shows data distribution of the Duration feature. We can see that there are some outliers depicting negative values of duration i.e. Time which ideally is not possible."
   ]
  },
  {
   "cell_type": "code",
   "execution_count": 28,
   "metadata": {
    "executionInfo": {
     "elapsed": 18,
     "status": "ok",
     "timestamp": 1642247547706,
     "user": {
      "displayName": "Deepak Avhad",
      "photoUrl": "https://lh3.googleusercontent.com/a-/AOh14GhY6x3bmDdXRl6lSqWi0RKwhXwFroevfB4OUaxfwg=s64",
      "userId": "16043617655025119202"
     },
     "user_tz": -330
    },
    "id": "tKT4kOIl5Bhh"
   },
   "outputs": [],
   "source": [
    "index_duration = df[df['Duration'] < 0 ].index\n",
    "df.drop(index_duration, inplace = True)"
   ]
  },
  {
   "cell_type": "markdown",
   "metadata": {
    "id": "-c8C6oAjhWji"
   },
   "source": [
    "we drop negative values in Duration column"
   ]
  },
  {
   "cell_type": "code",
   "execution_count": 29,
   "metadata": {
    "colab": {
     "base_uri": "https://localhost:8080/"
    },
    "executionInfo": {
     "elapsed": 19,
     "status": "ok",
     "timestamp": 1642247547707,
     "user": {
      "displayName": "Deepak Avhad",
      "photoUrl": "https://lh3.googleusercontent.com/a-/AOh14GhY6x3bmDdXRl6lSqWi0RKwhXwFroevfB4OUaxfwg=s64",
      "userId": "16043617655025119202"
     },
     "user_tz": -330
    },
    "id": "7a6StuqM5Ino",
    "outputId": "a57455e1-3162-40b7-e84e-611f9d631b3c"
   },
   "outputs": [
    {
     "data": {
      "text/plain": [
       "(50550, 10)"
      ]
     },
     "execution_count": 29,
     "metadata": {},
     "output_type": "execute_result"
    }
   ],
   "source": [
    "df.shape"
   ]
  },
  {
   "cell_type": "code",
   "execution_count": 30,
   "metadata": {
    "executionInfo": {
     "elapsed": 17,
     "status": "ok",
     "timestamp": 1642247547708,
     "user": {
      "displayName": "Deepak Avhad",
      "photoUrl": "https://lh3.googleusercontent.com/a-/AOh14GhY6x3bmDdXRl6lSqWi0RKwhXwFroevfB4OUaxfwg=s64",
      "userId": "16043617655025119202"
     },
     "user_tz": -330
    },
    "id": "HnGgvZMy5LuU"
   },
   "outputs": [],
   "source": [
    "from sklearn.preprocessing import LabelEncoder\n",
    "le = LabelEncoder()\n",
    "df['Agency']= le.fit_transform(df['Agency'])\n",
    "df['Agency_Type']= le.fit_transform(df['Agency_Type'])\n",
    "df['Distribution_Channel']= le.fit_transform(df['Distribution_Channel'])\n",
    "df['Product_Name']= le.fit_transform(df['Product_Name'])\n",
    "df['Destination']= le.fit_transform(df['Destination'])"
   ]
  },
  {
   "cell_type": "markdown",
   "metadata": {
    "id": "NQqqkecnhlmN"
   },
   "source": [
    "Using label encoding we converted categorical column into the numerical columns."
   ]
  },
  {
   "cell_type": "code",
   "execution_count": 31,
   "metadata": {
    "colab": {
     "base_uri": "https://localhost:8080/",
     "height": 206
    },
    "executionInfo": {
     "elapsed": 18,
     "status": "ok",
     "timestamp": 1642247547709,
     "user": {
      "displayName": "Deepak Avhad",
      "photoUrl": "https://lh3.googleusercontent.com/a-/AOh14GhY6x3bmDdXRl6lSqWi0RKwhXwFroevfB4OUaxfwg=s64",
      "userId": "16043617655025119202"
     },
     "user_tz": -330
    },
    "id": "AEncrWLH5PuT",
    "outputId": "ae345eb8-855a-446f-c511-0965d83dfa4c"
   },
   "outputs": [
    {
     "data": {
      "text/html": [
       "\n",
       "  <div id=\"df-4bea8345-3800-4993-8211-b7d98d175037\">\n",
       "    <div class=\"colab-df-container\">\n",
       "      <div>\n",
       "<style scoped>\n",
       "    .dataframe tbody tr th:only-of-type {\n",
       "        vertical-align: middle;\n",
       "    }\n",
       "\n",
       "    .dataframe tbody tr th {\n",
       "        vertical-align: top;\n",
       "    }\n",
       "\n",
       "    .dataframe thead th {\n",
       "        text-align: right;\n",
       "    }\n",
       "</style>\n",
       "<table border=\"1\" class=\"dataframe\">\n",
       "  <thead>\n",
       "    <tr style=\"text-align: right;\">\n",
       "      <th></th>\n",
       "      <th>Agency</th>\n",
       "      <th>Agency_Type</th>\n",
       "      <th>Distribution_Channel</th>\n",
       "      <th>Product_Name</th>\n",
       "      <th>Duration</th>\n",
       "      <th>Destination</th>\n",
       "      <th>Net_Sales</th>\n",
       "      <th>Commision</th>\n",
       "      <th>Age</th>\n",
       "      <th>Claim</th>\n",
       "    </tr>\n",
       "  </thead>\n",
       "  <tbody>\n",
       "    <tr>\n",
       "      <th>0</th>\n",
       "      <td>6</td>\n",
       "      <td>1</td>\n",
       "      <td>1</td>\n",
       "      <td>16</td>\n",
       "      <td>7</td>\n",
       "      <td>56</td>\n",
       "      <td>0.0</td>\n",
       "      <td>17.82</td>\n",
       "      <td>31</td>\n",
       "      <td>0</td>\n",
       "    </tr>\n",
       "    <tr>\n",
       "      <th>1</th>\n",
       "      <td>7</td>\n",
       "      <td>1</td>\n",
       "      <td>1</td>\n",
       "      <td>10</td>\n",
       "      <td>85</td>\n",
       "      <td>79</td>\n",
       "      <td>69.0</td>\n",
       "      <td>0.00</td>\n",
       "      <td>36</td>\n",
       "      <td>0</td>\n",
       "    </tr>\n",
       "    <tr>\n",
       "      <th>2</th>\n",
       "      <td>6</td>\n",
       "      <td>1</td>\n",
       "      <td>1</td>\n",
       "      <td>16</td>\n",
       "      <td>11</td>\n",
       "      <td>56</td>\n",
       "      <td>19.8</td>\n",
       "      <td>11.88</td>\n",
       "      <td>75</td>\n",
       "      <td>0</td>\n",
       "    </tr>\n",
       "    <tr>\n",
       "      <th>3</th>\n",
       "      <td>7</td>\n",
       "      <td>1</td>\n",
       "      <td>1</td>\n",
       "      <td>1</td>\n",
       "      <td>16</td>\n",
       "      <td>38</td>\n",
       "      <td>20.0</td>\n",
       "      <td>0.00</td>\n",
       "      <td>32</td>\n",
       "      <td>0</td>\n",
       "    </tr>\n",
       "    <tr>\n",
       "      <th>4</th>\n",
       "      <td>7</td>\n",
       "      <td>1</td>\n",
       "      <td>1</td>\n",
       "      <td>10</td>\n",
       "      <td>10</td>\n",
       "      <td>47</td>\n",
       "      <td>15.0</td>\n",
       "      <td>0.00</td>\n",
       "      <td>29</td>\n",
       "      <td>0</td>\n",
       "    </tr>\n",
       "  </tbody>\n",
       "</table>\n",
       "</div>\n",
       "      <button class=\"colab-df-convert\" onclick=\"convertToInteractive('df-4bea8345-3800-4993-8211-b7d98d175037')\"\n",
       "              title=\"Convert this dataframe to an interactive table.\"\n",
       "              style=\"display:none;\">\n",
       "        \n",
       "  <svg xmlns=\"http://www.w3.org/2000/svg\" height=\"24px\"viewBox=\"0 0 24 24\"\n",
       "       width=\"24px\">\n",
       "    <path d=\"M0 0h24v24H0V0z\" fill=\"none\"/>\n",
       "    <path d=\"M18.56 5.44l.94 2.06.94-2.06 2.06-.94-2.06-.94-.94-2.06-.94 2.06-2.06.94zm-11 1L8.5 8.5l.94-2.06 2.06-.94-2.06-.94L8.5 2.5l-.94 2.06-2.06.94zm10 10l.94 2.06.94-2.06 2.06-.94-2.06-.94-.94-2.06-.94 2.06-2.06.94z\"/><path d=\"M17.41 7.96l-1.37-1.37c-.4-.4-.92-.59-1.43-.59-.52 0-1.04.2-1.43.59L10.3 9.45l-7.72 7.72c-.78.78-.78 2.05 0 2.83L4 21.41c.39.39.9.59 1.41.59.51 0 1.02-.2 1.41-.59l7.78-7.78 2.81-2.81c.8-.78.8-2.07 0-2.86zM5.41 20L4 18.59l7.72-7.72 1.47 1.35L5.41 20z\"/>\n",
       "  </svg>\n",
       "      </button>\n",
       "      \n",
       "  <style>\n",
       "    .colab-df-container {\n",
       "      display:flex;\n",
       "      flex-wrap:wrap;\n",
       "      gap: 12px;\n",
       "    }\n",
       "\n",
       "    .colab-df-convert {\n",
       "      background-color: #E8F0FE;\n",
       "      border: none;\n",
       "      border-radius: 50%;\n",
       "      cursor: pointer;\n",
       "      display: none;\n",
       "      fill: #1967D2;\n",
       "      height: 32px;\n",
       "      padding: 0 0 0 0;\n",
       "      width: 32px;\n",
       "    }\n",
       "\n",
       "    .colab-df-convert:hover {\n",
       "      background-color: #E2EBFA;\n",
       "      box-shadow: 0px 1px 2px rgba(60, 64, 67, 0.3), 0px 1px 3px 1px rgba(60, 64, 67, 0.15);\n",
       "      fill: #174EA6;\n",
       "    }\n",
       "\n",
       "    [theme=dark] .colab-df-convert {\n",
       "      background-color: #3B4455;\n",
       "      fill: #D2E3FC;\n",
       "    }\n",
       "\n",
       "    [theme=dark] .colab-df-convert:hover {\n",
       "      background-color: #434B5C;\n",
       "      box-shadow: 0px 1px 3px 1px rgba(0, 0, 0, 0.15);\n",
       "      filter: drop-shadow(0px 1px 2px rgba(0, 0, 0, 0.3));\n",
       "      fill: #FFFFFF;\n",
       "    }\n",
       "  </style>\n",
       "\n",
       "      <script>\n",
       "        const buttonEl =\n",
       "          document.querySelector('#df-4bea8345-3800-4993-8211-b7d98d175037 button.colab-df-convert');\n",
       "        buttonEl.style.display =\n",
       "          google.colab.kernel.accessAllowed ? 'block' : 'none';\n",
       "\n",
       "        async function convertToInteractive(key) {\n",
       "          const element = document.querySelector('#df-4bea8345-3800-4993-8211-b7d98d175037');\n",
       "          const dataTable =\n",
       "            await google.colab.kernel.invokeFunction('convertToInteractive',\n",
       "                                                     [key], {});\n",
       "          if (!dataTable) return;\n",
       "\n",
       "          const docLinkHtml = 'Like what you see? Visit the ' +\n",
       "            '<a target=\"_blank\" href=https://colab.research.google.com/notebooks/data_table.ipynb>data table notebook</a>'\n",
       "            + ' to learn more about interactive tables.';\n",
       "          element.innerHTML = '';\n",
       "          dataTable['output_type'] = 'display_data';\n",
       "          await google.colab.output.renderOutput(dataTable, element);\n",
       "          const docLink = document.createElement('div');\n",
       "          docLink.innerHTML = docLinkHtml;\n",
       "          element.appendChild(docLink);\n",
       "        }\n",
       "      </script>\n",
       "    </div>\n",
       "  </div>\n",
       "  "
      ],
      "text/plain": [
       "   Agency  Agency_Type  Distribution_Channel  ...  Commision  Age  Claim\n",
       "0       6            1                     1  ...      17.82   31      0\n",
       "1       7            1                     1  ...       0.00   36      0\n",
       "2       6            1                     1  ...      11.88   75      0\n",
       "3       7            1                     1  ...       0.00   32      0\n",
       "4       7            1                     1  ...       0.00   29      0\n",
       "\n",
       "[5 rows x 10 columns]"
      ]
     },
     "execution_count": 31,
     "metadata": {},
     "output_type": "execute_result"
    }
   ],
   "source": [
    "df.head()"
   ]
  },
  {
   "cell_type": "markdown",
   "metadata": {
    "id": "fo2OPjKah3WP"
   },
   "source": [
    "Here we can see dataset has all numerical columns."
   ]
  },
  {
   "cell_type": "code",
   "execution_count": 32,
   "metadata": {
    "executionInfo": {
     "elapsed": 17,
     "status": "ok",
     "timestamp": 1642247547710,
     "user": {
      "displayName": "Deepak Avhad",
      "photoUrl": "https://lh3.googleusercontent.com/a-/AOh14GhY6x3bmDdXRl6lSqWi0RKwhXwFroevfB4OUaxfwg=s64",
      "userId": "16043617655025119202"
     },
     "user_tz": -330
    },
    "id": "ELKH5miY5lNP"
   },
   "outputs": [],
   "source": [
    "# Feature & target\n",
    "X = df.iloc[:,:-1]\n",
    "y = df.iloc[:,-1]"
   ]
  },
  {
   "cell_type": "markdown",
   "metadata": {
    "id": "w5pJPjmWiPq_"
   },
   "source": [
    "Split Feature & target"
   ]
  },
  {
   "cell_type": "code",
   "execution_count": 33,
   "metadata": {
    "executionInfo": {
     "elapsed": 916,
     "status": "ok",
     "timestamp": 1642247548609,
     "user": {
      "displayName": "Deepak Avhad",
      "photoUrl": "https://lh3.googleusercontent.com/a-/AOh14GhY6x3bmDdXRl6lSqWi0RKwhXwFroevfB4OUaxfwg=s64",
      "userId": "16043617655025119202"
     },
     "user_tz": -330
    },
    "id": "9xqDDJVm50dH"
   },
   "outputs": [],
   "source": [
    "#Oversampling\n",
    "from imblearn.over_sampling import SMOTE \n",
    "sm=SMOTE(random_state=42)\n",
    "X_sm,y_sm=sm.fit_resample(X,y)"
   ]
  },
  {
   "cell_type": "markdown",
   "metadata": {
    "id": "ARzYploIiUAX"
   },
   "source": [
    "Our dataset is highly imbalanced so,we are doing oversampling for balancing data."
   ]
  },
  {
   "cell_type": "code",
   "execution_count": 34,
   "metadata": {
    "executionInfo": {
     "elapsed": 10,
     "status": "ok",
     "timestamp": 1642247548610,
     "user": {
      "displayName": "Deepak Avhad",
      "photoUrl": "https://lh3.googleusercontent.com/a-/AOh14GhY6x3bmDdXRl6lSqWi0RKwhXwFroevfB4OUaxfwg=s64",
      "userId": "16043617655025119202"
     },
     "user_tz": -330
    },
    "id": "gnK0KaHE59zU"
   },
   "outputs": [],
   "source": [
    "# train test split\n",
    "from sklearn.model_selection import train_test_split\n",
    "X_train, X_test, y_train, y_test = train_test_split(X_sm,y_sm,test_size=0.3,random_state=1)"
   ]
  },
  {
   "cell_type": "code",
   "execution_count": 35,
   "metadata": {
    "executionInfo": {
     "elapsed": 10,
     "status": "ok",
     "timestamp": 1642247548611,
     "user": {
      "displayName": "Deepak Avhad",
      "photoUrl": "https://lh3.googleusercontent.com/a-/AOh14GhY6x3bmDdXRl6lSqWi0RKwhXwFroevfB4OUaxfwg=s64",
      "userId": "16043617655025119202"
     },
     "user_tz": -330
    },
    "id": "TSp7Oo606B4x"
   },
   "outputs": [],
   "source": [
    "# Standardizing the Dataset\n",
    "from sklearn.preprocessing import StandardScaler\n",
    "sc = StandardScaler()\n",
    "X_train = sc.fit_transform(X_train)\n",
    "X_test = sc.transform(X_test)"
   ]
  },
  {
   "cell_type": "code",
   "execution_count": 36,
   "metadata": {
    "colab": {
     "base_uri": "https://localhost:8080/"
    },
    "executionInfo": {
     "elapsed": 9,
     "status": "ok",
     "timestamp": 1642247548611,
     "user": {
      "displayName": "Deepak Avhad",
      "photoUrl": "https://lh3.googleusercontent.com/a-/AOh14GhY6x3bmDdXRl6lSqWi0RKwhXwFroevfB4OUaxfwg=s64",
      "userId": "16043617655025119202"
     },
     "user_tz": -330
    },
    "id": "Ys8dKepp6LSe",
    "outputId": "83dcf163-cff2-4215-8686-de8fa8e655d6"
   },
   "outputs": [
    {
     "data": {
      "text/plain": [
       "1    35019\n",
       "0    34713\n",
       "Name: Claim, dtype: int64"
      ]
     },
     "execution_count": 36,
     "metadata": {},
     "output_type": "execute_result"
    }
   ],
   "source": [
    "y_train.value_counts()"
   ]
  },
  {
   "cell_type": "markdown",
   "metadata": {
    "id": "lNI4AuHyiwta"
   },
   "source": [
    "Here,we can see our dataset is balanced now."
   ]
  },
  {
   "cell_type": "code",
   "execution_count": 37,
   "metadata": {
    "colab": {
     "base_uri": "https://localhost:8080/"
    },
    "executionInfo": {
     "elapsed": 8,
     "status": "ok",
     "timestamp": 1642247548611,
     "user": {
      "displayName": "Deepak Avhad",
      "photoUrl": "https://lh3.googleusercontent.com/a-/AOh14GhY6x3bmDdXRl6lSqWi0RKwhXwFroevfB4OUaxfwg=s64",
      "userId": "16043617655025119202"
     },
     "user_tz": -330
    },
    "id": "g9ub6rSo6y7n",
    "outputId": "c2ce26dd-7ba5-41e0-d71a-c775cf719793"
   },
   "outputs": [
    {
     "data": {
      "text/plain": [
       "(69732, 9)"
      ]
     },
     "execution_count": 37,
     "metadata": {},
     "output_type": "execute_result"
    }
   ],
   "source": [
    "X_train.shape"
   ]
  },
  {
   "cell_type": "code",
   "execution_count": 38,
   "metadata": {
    "executionInfo": {
     "elapsed": 2594,
     "status": "ok",
     "timestamp": 1642247551200,
     "user": {
      "displayName": "Deepak Avhad",
      "photoUrl": "https://lh3.googleusercontent.com/a-/AOh14GhY6x3bmDdXRl6lSqWi0RKwhXwFroevfB4OUaxfwg=s64",
      "userId": "16043617655025119202"
     },
     "user_tz": -330
    },
    "id": "dKIW1hqV6OAi"
   },
   "outputs": [],
   "source": [
    "#Neural network Architecture\n",
    "from tensorflow.keras.models import Sequential\n",
    "from tensorflow.keras.layers import Dense, BatchNormalization, Dropout"
   ]
  },
  {
   "cell_type": "code",
   "execution_count": 39,
   "metadata": {
    "executionInfo": {
     "elapsed": 9,
     "status": "ok",
     "timestamp": 1642247551201,
     "user": {
      "displayName": "Deepak Avhad",
      "photoUrl": "https://lh3.googleusercontent.com/a-/AOh14GhY6x3bmDdXRl6lSqWi0RKwhXwFroevfB4OUaxfwg=s64",
      "userId": "16043617655025119202"
     },
     "user_tz": -330
    },
    "id": "TlhIfqIg6Y37"
   },
   "outputs": [],
   "source": [
    "model = Sequential()\n",
    "model.add(Dense(25, activation=\"ReLU\", input_dim=9))\n",
    "model.add(BatchNormalization())\n",
    "model.add(Dropout(0.2))\n",
    "model.add(Dense(20, activation=\"ReLU\"))\n",
    "model.add(BatchNormalization())\n",
    "model.add(Dropout(0.2))\n",
    "model.add(Dense(20, activation=\"ReLU\"))\n",
    "model.add(BatchNormalization())\n",
    "model.add(Dropout(0.2))\n",
    "model.add(Dense(1, activation=\"sigmoid\"))"
   ]
  },
  {
   "cell_type": "code",
   "execution_count": 40,
   "metadata": {
    "executionInfo": {
     "elapsed": 7,
     "status": "ok",
     "timestamp": 1642247551202,
     "user": {
      "displayName": "Deepak Avhad",
      "photoUrl": "https://lh3.googleusercontent.com/a-/AOh14GhY6x3bmDdXRl6lSqWi0RKwhXwFroevfB4OUaxfwg=s64",
      "userId": "16043617655025119202"
     },
     "user_tz": -330
    },
    "id": "h-4D29IY65rW"
   },
   "outputs": [],
   "source": [
    "model.compile(optimizer=\"adam\", loss=\"binary_crossentropy\")"
   ]
  },
  {
   "cell_type": "code",
   "execution_count": 41,
   "metadata": {
    "colab": {
     "base_uri": "https://localhost:8080/"
    },
    "executionInfo": {
     "elapsed": 35409,
     "status": "ok",
     "timestamp": 1642247586605,
     "user": {
      "displayName": "Deepak Avhad",
      "photoUrl": "https://lh3.googleusercontent.com/a-/AOh14GhY6x3bmDdXRl6lSqWi0RKwhXwFroevfB4OUaxfwg=s64",
      "userId": "16043617655025119202"
     },
     "user_tz": -330
    },
    "id": "gfXhU9Ik7Ab8",
    "outputId": "e38fe167-c018-4be1-ad5e-ddd4cefac00e"
   },
   "outputs": [
    {
     "name": "stdout",
     "output_type": "stream",
     "text": [
      "Epoch 1/20\n",
      "545/545 [==============================] - 3s 3ms/step - loss: 0.5722\n",
      "Epoch 2/20\n",
      "545/545 [==============================] - 2s 3ms/step - loss: 0.5041\n",
      "Epoch 3/20\n",
      "545/545 [==============================] - 2s 3ms/step - loss: 0.4826\n",
      "Epoch 4/20\n",
      "545/545 [==============================] - 2s 3ms/step - loss: 0.4693\n",
      "Epoch 5/20\n",
      "545/545 [==============================] - 2s 3ms/step - loss: 0.4625\n",
      "Epoch 6/20\n",
      "545/545 [==============================] - 2s 3ms/step - loss: 0.4543\n",
      "Epoch 7/20\n",
      "545/545 [==============================] - 2s 3ms/step - loss: 0.4487\n",
      "Epoch 8/20\n",
      "545/545 [==============================] - 2s 3ms/step - loss: 0.4440\n",
      "Epoch 9/20\n",
      "545/545 [==============================] - 2s 3ms/step - loss: 0.4385\n",
      "Epoch 10/20\n",
      "545/545 [==============================] - 2s 3ms/step - loss: 0.4352\n",
      "Epoch 11/20\n",
      "545/545 [==============================] - 2s 3ms/step - loss: 0.4320\n",
      "Epoch 12/20\n",
      "545/545 [==============================] - 2s 3ms/step - loss: 0.4284\n",
      "Epoch 13/20\n",
      "545/545 [==============================] - 2s 3ms/step - loss: 0.4265\n",
      "Epoch 14/20\n",
      "545/545 [==============================] - 2s 3ms/step - loss: 0.4227\n",
      "Epoch 15/20\n",
      "545/545 [==============================] - 2s 3ms/step - loss: 0.4224\n",
      "Epoch 16/20\n",
      "545/545 [==============================] - 2s 3ms/step - loss: 0.4205\n",
      "Epoch 17/20\n",
      "545/545 [==============================] - 2s 3ms/step - loss: 0.4173\n",
      "Epoch 18/20\n",
      "545/545 [==============================] - 2s 3ms/step - loss: 0.4164\n",
      "Epoch 19/20\n",
      "545/545 [==============================] - 2s 3ms/step - loss: 0.4150\n",
      "Epoch 20/20\n",
      "545/545 [==============================] - 2s 3ms/step - loss: 0.4147\n"
     ]
    },
    {
     "data": {
      "text/plain": [
       "<keras.callbacks.History at 0x7fb0b4cd9450>"
      ]
     },
     "execution_count": 41,
     "metadata": {},
     "output_type": "execute_result"
    }
   ],
   "source": [
    "model.fit(X_train,y_train, batch_size=128, epochs=20)"
   ]
  },
  {
   "cell_type": "code",
   "execution_count": 42,
   "metadata": {
    "executionInfo": {
     "elapsed": 1398,
     "status": "ok",
     "timestamp": 1642247587977,
     "user": {
      "displayName": "Deepak Avhad",
      "photoUrl": "https://lh3.googleusercontent.com/a-/AOh14GhY6x3bmDdXRl6lSqWi0RKwhXwFroevfB4OUaxfwg=s64",
      "userId": "16043617655025119202"
     },
     "user_tz": -330
    },
    "id": "ST6zBwTJ7FVQ"
   },
   "outputs": [],
   "source": [
    "y_pred = model.predict(X_test)"
   ]
  },
  {
   "cell_type": "code",
   "execution_count": 43,
   "metadata": {
    "executionInfo": {
     "elapsed": 19,
     "status": "ok",
     "timestamp": 1642247587982,
     "user": {
      "displayName": "Deepak Avhad",
      "photoUrl": "https://lh3.googleusercontent.com/a-/AOh14GhY6x3bmDdXRl6lSqWi0RKwhXwFroevfB4OUaxfwg=s64",
      "userId": "16043617655025119202"
     },
     "user_tz": -330
    },
    "id": "ydxYZdCh7JFa"
   },
   "outputs": [],
   "source": [
    "y_pred = np.where(y_pred >= 0.5, 1, 0)"
   ]
  },
  {
   "cell_type": "code",
   "execution_count": 44,
   "metadata": {
    "colab": {
     "base_uri": "https://localhost:8080/"
    },
    "executionInfo": {
     "elapsed": 19,
     "status": "ok",
     "timestamp": 1642247587983,
     "user": {
      "displayName": "Deepak Avhad",
      "photoUrl": "https://lh3.googleusercontent.com/a-/AOh14GhY6x3bmDdXRl6lSqWi0RKwhXwFroevfB4OUaxfwg=s64",
      "userId": "16043617655025119202"
     },
     "user_tz": -330
    },
    "id": "R_SMy4bd7LLA",
    "outputId": "646689dc-8d8a-47e9-d86a-4b16cff4e758"
   },
   "outputs": [
    {
     "name": "stdout",
     "output_type": "stream",
     "text": [
      "              precision    recall  f1-score   support\n",
      "\n",
      "           0       0.86      0.82      0.84     15096\n",
      "           1       0.82      0.86      0.84     14790\n",
      "\n",
      "    accuracy                           0.84     29886\n",
      "   macro avg       0.84      0.84      0.84     29886\n",
      "weighted avg       0.84      0.84      0.84     29886\n",
      "\n"
     ]
    }
   ],
   "source": [
    "from sklearn.metrics import classification_report\n",
    "print(classification_report(y_test,y_pred))"
   ]
  },
  {
   "cell_type": "markdown",
   "metadata": {
    "id": "riZdi_wzlcYT"
   },
   "source": [
    "From above classification report we can see that we get good accuracy & recall value for insurance problem i.e.\n",
    "Precision 82% , Recall 86% , F1 score 84% & Accuracy is 84%. \n",
    "So, overall we get good score for insurnce claim problem."
   ]
  }
 ],
 "metadata": {
  "colab": {
   "authorship_tag": "ABX9TyOwPJszVFv4W0oz1KHajhcL",
   "collapsed_sections": [],
   "mount_file_id": "1HyN0S6z0VcsxVJxX1RgDNsK-PYu3NJEI",
   "name": "InsuranceClaim-DLProject.ipynb",
   "provenance": []
  },
  "kernelspec": {
   "display_name": "Python 3",
   "language": "python",
   "name": "python3"
  },
  "language_info": {
   "codemirror_mode": {
    "name": "ipython",
    "version": 3
   },
   "file_extension": ".py",
   "mimetype": "text/x-python",
   "name": "python",
   "nbconvert_exporter": "python",
   "pygments_lexer": "ipython3",
   "version": "3.8.8"
  }
 },
 "nbformat": 4,
 "nbformat_minor": 1
}
